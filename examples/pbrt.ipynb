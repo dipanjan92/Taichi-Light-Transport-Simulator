{
 "cells": [
  {
   "cell_type": "markdown",
   "source": [
    "# Path Tracing Notebook\n",
    "Implementation of Light Transport Algorithms"
   ],
   "metadata": {
    "collapsed": false,
    "pycharm": {
     "name": "#%% md\n"
    }
   }
  },
  {
   "cell_type": "markdown",
   "source": [
    "********************************************************************************************"
   ],
   "metadata": {
    "collapsed": false,
    "pycharm": {
     "name": "#%% md\n"
    }
   }
  },
  {
   "cell_type": "code",
   "execution_count": 166,
   "outputs": [
    {
     "name": "stdout",
     "output_type": "stream",
     "text": [
      "[Taichi] Starting on arch=arm64\n"
     ]
    }
   ],
   "source": [
    "import taichi as ti\n",
    "ti.init(arch=ti.cpu, debug=True, random_seed=68739)"
   ],
   "metadata": {
    "collapsed": false,
    "ExecuteTime": {
     "end_time": "2025-02-22T01:40:22.797678Z",
     "start_time": "2025-02-22T01:40:22.303198Z"
    }
   }
  },
  {
   "cell_type": "code",
   "execution_count": 167,
   "outputs": [],
   "source": [
    "import time\n",
    "from pathlib import Path\n",
    "import matplotlib.pyplot as plt\n",
    "import numpy as np\n",
    "from taichi.math import vec3, cross, normalize, dot"
   ],
   "metadata": {
    "collapsed": false,
    "ExecuteTime": {
     "end_time": "2025-02-22T01:40:22.797743Z",
     "start_time": "2025-02-22T01:40:22.651156Z"
    }
   }
  },
  {
   "cell_type": "code",
   "execution_count": 168,
   "outputs": [],
   "source": [
    "from primitives.primitives import Triangle, Sphere, Primitive\n",
    "from base.frame import Frame, frame_from_z\n",
    "from base.materials import Material\n",
    "from base.bsdf import BSDF\n",
    "from primitives.ray import Ray\n",
    "from base.lights import DiffuseAreaLight, UniformLightSampler\n",
    "from base.camera import PerspectiveCamera"
   ],
   "metadata": {
    "collapsed": false,
    "ExecuteTime": {
     "end_time": "2025-02-22T01:40:22.797812Z",
     "start_time": "2025-02-22T01:40:22.651440Z"
    }
   }
  },
  {
   "cell_type": "code",
   "execution_count": 169,
   "outputs": [],
   "source": [
    "cornell_box = \"../scenes/cornell-box.pbrt\"\n",
    "volumetric_caustic = \"../scenes/volumetric-caustic.pbrt\"\n",
    "door_scene = \"../scenes/veach/veach-ajar.pbrt\"\n",
    "testball =\"../scenes/material-testball/scene-v4.pbrt\"\n",
    "one = \"../scenes/one.pbrt\"\n",
    "cb = \"../scenes/cb.pbrt\"\n",
    "cb_spheres = \"../scenes/cb-spheres.pbrt\"\n",
    "veach_mis = \"../scenes/veach-mis/scene-v4.pbrt\"\n",
    "\n",
    "\n",
    "file_path = volumetric_caustic"
   ],
   "metadata": {
    "collapsed": false,
    "ExecuteTime": {
     "end_time": "2025-02-22T01:40:22.797839Z",
     "start_time": "2025-02-22T01:40:22.651650Z"
    }
   }
  },
  {
   "cell_type": "code",
   "execution_count": 170,
   "outputs": [
    {
     "data": {
      "text/plain": "<ti.SNode of type dense>"
     },
     "execution_count": 170,
     "metadata": {},
     "output_type": "execute_result"
    }
   ],
   "source": [
    "from primitives.primitives import Primitive\n",
    "\n",
    "n_p = 1024\n",
    "PS = ti.root.dense(ti.i, n_p)\n",
    "primitives = Primitive.field()\n",
    "PS.place(primitives)"
   ],
   "metadata": {
    "collapsed": false,
    "ExecuteTime": {
     "end_time": "2025-02-22T01:40:22.797920Z",
     "start_time": "2025-02-22T01:40:22.651858Z"
    }
   }
  },
  {
   "cell_type": "code",
   "execution_count": 171,
   "outputs": [],
   "source": [
    "from pbrt.material_parser import parse_materials\n",
    "from pbrt.shape_parser import extract_all_shapes, parse_shapes\n",
    "from pbrt.parser import pbrt_to_dict\n",
    "\n",
    "# Parse the scene\n",
    "scene_dict = pbrt_to_dict(file_path)\n",
    "\n",
    "# Extract the shapes\n",
    "shapes_list = extract_all_shapes(file_path)\n",
    "\n",
    "# Parse the materials\n",
    "materials = scene_dict.get(\"MakeNamedMaterial\", [])\n",
    "parsed_materials = parse_materials(materials)\n",
    "\n",
    "# Extract Primitives\n",
    "n_primitives, light_count = parse_shapes(shapes_list, materials, primitives)"
   ],
   "metadata": {
    "collapsed": false,
    "ExecuteTime": {
     "end_time": "2025-02-22T01:40:23.094822Z",
     "start_time": "2025-02-22T01:40:22.669807Z"
    }
   }
  },
  {
   "cell_type": "code",
   "execution_count": 172,
   "outputs": [
    {
     "data": {
      "text/plain": "(15, 2)"
     },
     "execution_count": 172,
     "metadata": {},
     "output_type": "execute_result"
    }
   ],
   "source": [
    "n_primitives, light_count"
   ],
   "metadata": {
    "collapsed": false,
    "ExecuteTime": {
     "end_time": "2025-02-22T01:40:23.096646Z",
     "start_time": "2025-02-22T01:40:23.094998Z"
    }
   }
  },
  {
   "cell_type": "code",
   "execution_count": 173,
   "outputs": [
    {
     "data": {
      "text/plain": "<ti.SNode of type dense>"
     },
     "execution_count": 173,
     "metadata": {},
     "output_type": "execute_result"
    }
   ],
   "source": [
    "from base.lights import DiffuseAreaLight\n",
    "\n",
    "# Create a Taichi field for light sources\n",
    "n_lights = light_count\n",
    "LS = ti.root.dense(ti.i, n_lights)\n",
    "lights = DiffuseAreaLight.field()\n",
    "LS.place(lights)"
   ],
   "metadata": {
    "collapsed": false,
    "ExecuteTime": {
     "end_time": "2025-02-22T01:40:23.100697Z",
     "start_time": "2025-02-22T01:40:23.097660Z"
    }
   }
  },
  {
   "cell_type": "code",
   "execution_count": 174,
   "outputs": [
    {
     "name": "stdout",
     "output_type": "stream",
     "text": [
      "13 [541126.750000, 381971.812500, 127323.937500]\n",
      "14 [541126.750000, 381971.812500, 127323.937500]\n"
     ]
    }
   ],
   "source": [
    "@ti.kernel\n",
    "def populate_shapes():\n",
    "\n",
    "    for i in range(n_primitives):\n",
    "\n",
    "        primitives[i].bsdf.diffuse.type = 0\n",
    "        primitives[i].bsdf.transmit.type = 1\n",
    "        primitives[i].bsdf.dielectric.type = 2\n",
    "        primitives[i].bsdf.conductor.type = 3\n",
    "        primitives[i].bsdf.mirror.type = 4\n",
    "        primitives[i].bsdf.specular.type = 5\n",
    "\n",
    "        material = primitives[i].material\n",
    "\n",
    "        if material.material_type==0:\n",
    "            # Diffuse material\n",
    "            primitives[i].bsdf.add_diffuse(material.reflectance)\n",
    "        elif material.material_type==1:\n",
    "            # Diffuse-Transmission material\n",
    "            primitives[i].bsdf.add_transmission(material.reflectance, material.transmittance)\n",
    "        elif material.material_type==2:\n",
    "            # Dielectric material\n",
    "            primitives[i].bsdf.add_dielectric(material.eta[0], material.reflectance, material.uroughness, material.vroughness)\n",
    "        elif material.material_type==3:\n",
    "            # Conductor material\n",
    "            print(material.eta)\n",
    "            primitives[i].bsdf.add_conductor(material.eta, material.k, material.uroughness, material.vroughness)\n",
    "\n",
    "        if primitives[i].is_light == 1:\n",
    "            print(i, primitives[i].material.emission)\n",
    "            light_idx = primitives[i].light_idx\n",
    "            lights[light_idx].shape_idx = i  # Link the light to the primitive\n",
    "            lights[light_idx].two_sided = 0  # Assuming lights are one-sided\n",
    "            lights[light_idx].Le = primitives[i].material.emission\n",
    "            light_idx += 1\n",
    "\n",
    "populate_shapes()"
   ],
   "metadata": {
    "collapsed": false,
    "ExecuteTime": {
     "end_time": "2025-02-22T01:40:23.183576Z",
     "start_time": "2025-02-22T01:40:23.102872Z"
    }
   }
  },
  {
   "cell_type": "code",
   "execution_count": 175,
   "outputs": [
    {
     "data": {
      "text/plain": "{'material_type': <taichi.lang.field.SNodeHostAccess object at 0x1482d4e10>, 'reflectance': [0.0, 0.0, 0.0], 'transmittance': [0.0, 0.0, 0.0], 'uroughness': <taichi.lang.field.SNodeHostAccess object at 0x1482d7a50>, 'vroughness': <taichi.lang.field.SNodeHostAccess object at 0x1482d53d0>, 'eta': [0.0, 0.0, 0.0], 'k': [0.0, 0.0, 0.0], 'emission': [0.0, 0.0, 0.0]}"
     },
     "execution_count": 175,
     "metadata": {},
     "output_type": "execute_result"
    }
   ],
   "source": [
    "primitives[35].material"
   ],
   "metadata": {
    "collapsed": false,
    "ExecuteTime": {
     "end_time": "2025-02-22T01:40:23.252132Z",
     "start_time": "2025-02-22T01:40:23.222807Z"
    }
   }
  },
  {
   "cell_type": "code",
   "execution_count": 176,
   "outputs": [
    {
     "data": {
      "text/plain": "{'shape_idx': array([13, 14], dtype=int32),\n 'Le': array([[541126.75, 381971.8 , 127323.94],\n        [541126.75, 381971.8 , 127323.94]], dtype=float32),\n 'two_sided': array([0, 0], dtype=int32)}"
     },
     "execution_count": 176,
     "metadata": {},
     "output_type": "execute_result"
    }
   ],
   "source": [
    "lights.to_numpy()"
   ],
   "metadata": {
    "collapsed": false,
    "ExecuteTime": {
     "end_time": "2025-02-22T01:40:23.259571Z",
     "start_time": "2025-02-22T01:40:23.225727Z"
    }
   }
  },
  {
   "cell_type": "code",
   "execution_count": 177,
   "outputs": [
    {
     "data": {
      "text/plain": "(15, 15)"
     },
     "execution_count": 177,
     "metadata": {},
     "output_type": "execute_result"
    }
   ],
   "source": [
    "from primitives.aabb import AABB, BVHPrimitive\n",
    "\n",
    "# Enclose all the primitives in their individual axis-aligned bounding boxes (AABB)\n",
    "BS = ti.root.dense(ti.i, n_primitives)\n",
    "bvh_primitives = BVHPrimitive.field()\n",
    "BS.place(bvh_primitives)\n",
    "\n",
    "scene_min = ti.Vector.field(3, dtype=ti.f32, shape=())  # Global min bounds\n",
    "scene_max = ti.Vector.field(3, dtype=ti.f32, shape=())  # Global max bounds\n",
    "\n",
    "@ti.kernel\n",
    "def init_bounded_boxes():\n",
    "    # Initialize scene bounding box with extreme values\n",
    "    scene_min[None] = vec3(1e10, 1e10, 1e10)\n",
    "    scene_max[None] = vec3(-1e10, -1e10, -1e10)\n",
    "\n",
    "    for i in ti.ndrange(n_primitives):\n",
    "        bvh_primitives[i].prim = primitives[i]\n",
    "        bvh_primitives[i].prim_num = i\n",
    "\n",
    "        # Get primitive bounds\n",
    "        min_p, max_p = primitives[i].get_bounds()\n",
    "        centroid = (min_p + max_p) * 0.5\n",
    "        bvh_primitives[i].bounds = AABB(min_point=min_p, max_point=max_p, centroid=centroid)\n",
    "\n",
    "        # Update scene-wide bounding box\n",
    "        for j in range(3):  # Loop over x, y, z components\n",
    "            scene_min[None][j] = min(scene_min[None][j], min_p[j])\n",
    "            scene_max[None][j] = max(scene_max[None][j], max_p[j])\n",
    "\n",
    "\n",
    "init_bounded_boxes()\n",
    "\n",
    "bvh_primitives.shape[0], n_primitives"
   ],
   "metadata": {
    "collapsed": false,
    "pycharm": {
     "name": "#%%\n"
    },
    "ExecuteTime": {
     "end_time": "2025-02-22T01:40:23.351025Z",
     "start_time": "2025-02-22T01:40:23.258990Z"
    }
   }
  },
  {
   "cell_type": "code",
   "execution_count": 178,
   "outputs": [
    {
     "data": {
      "text/plain": "<ti.SNode of type dense>"
     },
     "execution_count": 178,
     "metadata": {},
     "output_type": "execute_result"
    }
   ],
   "source": [
    "OPS = ti.root.dense(ti.i, n_primitives)\n",
    "ordered_prims = Primitive.field()\n",
    "OPS.place(ordered_prims)"
   ],
   "metadata": {
    "collapsed": false,
    "ExecuteTime": {
     "end_time": "2025-02-22T01:40:23.391586Z",
     "start_time": "2025-02-22T01:40:23.351242Z"
    }
   }
  },
  {
   "cell_type": "code",
   "execution_count": 179,
   "outputs": [
    {
     "data": {
      "text/plain": "<ti.SNode of type dense>"
     },
     "execution_count": 179,
     "metadata": {},
     "output_type": "execute_result"
    }
   ],
   "source": [
    "from accelerators.bvh import BVHNode, BucketInfo\n",
    "\n",
    "node_idx = 0\n",
    "\n",
    "BVS = ti.root.dense(ti.i, 3 * n_primitives)\n",
    "nodes = BVHNode.field()\n",
    "BVS.place(nodes)\n"
   ],
   "metadata": {
    "collapsed": false,
    "ExecuteTime": {
     "end_time": "2025-02-22T01:40:23.392078Z",
     "start_time": "2025-02-22T01:40:23.374697Z"
    }
   }
  },
  {
   "cell_type": "code",
   "execution_count": 180,
   "outputs": [
    {
     "data": {
      "text/plain": "45"
     },
     "execution_count": 180,
     "metadata": {},
     "output_type": "execute_result"
    }
   ],
   "source": [
    "nodes.shape[0]"
   ],
   "metadata": {
    "collapsed": false,
    "ExecuteTime": {
     "end_time": "2025-02-22T01:40:23.392679Z",
     "start_time": "2025-02-22T01:40:23.385708Z"
    }
   }
  },
  {
   "cell_type": "code",
   "execution_count": 181,
   "outputs": [],
   "source": [
    "total_nodes = ti.field(ti.i32, shape=())\n",
    "split_method = ti.field(ti.i32, shape=())\n",
    "start = ti.field(ti.i32, shape=())\n",
    "end = ti.field(ti.i32, shape=())\n",
    "ordered_prims_idx = ti.field(ti.i32, shape=())\n",
    "stack_ptr = ti.field(ti.i32, shape=())\n",
    "# ordered_prims_size = ti.field(ti.i32, shape=())\n",
    "\n",
    "@ti.kernel\n",
    "def init_stack():\n",
    "    total_nodes[None] = 0\n",
    "    split_method[None] = 0\n",
    "    start[None] = 0\n",
    "    end[None] = n_primitives\n",
    "    ordered_prims_idx[None] = 0\n",
    "    stack_ptr[None] = 0\n",
    "    # ordered_prims_size[None] = 0\n",
    "\n",
    "init_stack()"
   ],
   "metadata": {
    "collapsed": false,
    "ExecuteTime": {
     "end_time": "2025-02-22T01:40:23.392729Z",
     "start_time": "2025-02-22T01:40:23.385822Z"
    }
   }
  },
  {
   "cell_type": "code",
   "execution_count": 182,
   "outputs": [],
   "source": [
    "stack = ti.field(ti.i32, shape=(3*n_primitives, 4))\n",
    "n_buckets = 12\n",
    "buckets = BucketInfo.field(shape=(n_buckets))\n",
    "costs = ti.field(dtype=ti.f32, shape=(n_buckets-1))"
   ],
   "metadata": {
    "collapsed": false,
    "ExecuteTime": {
     "end_time": "2025-02-22T01:40:23.400555Z",
     "start_time": "2025-02-22T01:40:23.393123Z"
    }
   }
  },
  {
   "cell_type": "code",
   "execution_count": 183,
   "outputs": [],
   "source": [
    "from accelerators.bvh import build_bvh\n",
    "\n",
    "start_t = time.time()\n",
    "\n",
    "build_bvh(primitives, bvh_primitives, start, end, ordered_prims, nodes, total_nodes, split_method, stack, stack_ptr, ordered_prims_idx, costs, buckets)\n",
    "\n",
    "end_t = time.time()"
   ],
   "metadata": {
    "collapsed": false,
    "ExecuteTime": {
     "end_time": "2025-02-22T01:40:26.752030Z",
     "start_time": "2025-02-22T01:40:23.399482Z"
    }
   }
  },
  {
   "cell_type": "code",
   "execution_count": 184,
   "outputs": [],
   "source": [
    "# total_nodes = ti.field(ti.i32, shape=())\n",
    "# split_method = ti.field(ti.i32, shape=())\n",
    "# start = ti.field(ti.i32, shape=())\n",
    "# end = ti.field(ti.i32, shape=())\n",
    "# ordered_prims_idx = ti.field(ti.i32, shape=())\n",
    "# stack_ptr = ti.field(ti.i32, shape=())\n",
    "# max_prims_in_node = ti.field(ti.i32, shape=())\n",
    "# # ordered_prims_size = ti.field(ti.i32, shape=())\n",
    "#\n",
    "# @ti.kernel\n",
    "# def init_stack():\n",
    "#     total_nodes[None] = 0\n",
    "#     split_method[None] = 0\n",
    "#     start[None] = 0\n",
    "#     end[None] = n_primitives\n",
    "#     ordered_prims_idx[None] = 0\n",
    "#     stack_ptr[None] = 0\n",
    "#     max_prims_in_node[None] = 4\n",
    "#\n",
    "# init_stack()"
   ],
   "metadata": {
    "collapsed": false,
    "ExecuteTime": {
     "end_time": "2025-02-22T01:40:26.752303Z",
     "start_time": "2025-02-22T01:40:26.738455Z"
    }
   }
  },
  {
   "cell_type": "code",
   "execution_count": 185,
   "outputs": [],
   "source": [
    "# stack = ti.field(ti.i32, shape=(3*n_primitives, 4))\n",
    "# n_buckets = 12\n",
    "# buckets = BucketInfo.field(shape=(n_buckets))\n",
    "# costs = ti.field(dtype=ti.f32, shape=(n_buckets-1))"
   ],
   "metadata": {
    "collapsed": false,
    "ExecuteTime": {
     "end_time": "2025-02-22T01:40:26.752342Z",
     "start_time": "2025-02-22T01:40:26.741257Z"
    }
   }
  },
  {
   "cell_type": "code",
   "execution_count": 186,
   "outputs": [],
   "source": [
    "# from accelerators.hlbvh import build_hlbvh\n",
    "# from accelerators.bvh import build_bvh\n",
    "#\n",
    "# start_t = time.time()\n",
    "#\n",
    "# root = ti.field(ti.i32, shape=())\n",
    "#\n",
    "# build_hlbvh(\n",
    "#     primitives,\n",
    "#     bvh_primitives,\n",
    "#     ordered_prims,\n",
    "#     n_primitives,       # number of actual primitives\n",
    "#     nodes,\n",
    "#     total_nodes,\n",
    "#     ordered_prims_idx,  # you already have this\n",
    "#     max_prims_in_node,\n",
    "#     root\n",
    "# )\n",
    "#\n",
    "# end_t = time.time()"
   ],
   "metadata": {
    "collapsed": false,
    "ExecuteTime": {
     "end_time": "2025-02-22T01:40:26.752413Z",
     "start_time": "2025-02-22T01:40:26.744189Z"
    }
   }
  },
  {
   "cell_type": "code",
   "execution_count": 187,
   "outputs": [
    {
     "name": "stdout",
     "output_type": "stream",
     "text": [
      "Elapsed (with compilation) = 3.336186170578003\n",
      "Total Nodes: 27\n"
     ]
    }
   ],
   "source": [
    "print(\"Elapsed (with compilation) = %s\" % (end_t - start_t))\n",
    "print(f\"Total Nodes: {total_nodes}\")"
   ],
   "metadata": {
    "collapsed": false,
    "ExecuteTime": {
     "end_time": "2025-02-22T01:40:26.773302Z",
     "start_time": "2025-02-22T01:40:26.747916Z"
    }
   }
  },
  {
   "cell_type": "code",
   "execution_count": 188,
   "outputs": [
    {
     "name": "stdout",
     "output_type": "stream",
     "text": [
      "BVHNode 0 [Interior]: split_axis = 2 child_0 = 1 child_1 = 14 bounds = (min: [-1.228270, -1.000000, -0.847495] , max: [1.000000, 2.200000, 8.000000] )\n",
      "BVHNode 1 [Interior]: split_axis = 1 child_0 = 2 child_1 = 7 bounds = (min: [-1.000000, -1.000000, 6.000000] , max: [1.000000, 1.000000, 8.000000] )\n",
      "BVHNode 2 [Interior]: split_axis = 1 child_0 = 3 child_1 = 4 bounds = (min: [-1.000000, -1.000000, 6.000000] , max: [1.000000, 1.000000, 8.000000] )\n",
      "BVHNode 3 [Leaf]: first_prim_offset = 0 n_primitives = 1 bounds = (min: [-1.000000, -1.000000, 6.000000] , max: [1.000000, -1.000000, 8.000000] )\n",
      "BVHNode 4 [Interior]: split_axis = 1 child_0 = 5 child_1 = 6 bounds = (min: [-1.000000, -1.000000, 6.000000] , max: [1.000000, 1.000000, 8.000000] )\n",
      "BVHNode 5 [Leaf]: first_prim_offset = 1 n_primitives = 1 bounds = (min: [-1.000000, -1.000000, 6.000000] , max: [1.000000, -1.000000, 8.000000] )\n",
      "BVHNode 6 [Leaf]: first_prim_offset = 2 n_primitives = 1 bounds = (min: [-1.000000, 1.000000, 6.000000] , max: [1.000000, 1.000000, 8.000000] )\n",
      "BVHNode 7 [Interior]: split_axis = 0 child_0 = 8 child_1 = 11 bounds = (min: [-1.000000, -1.000000, 6.000000] , max: [1.000000, 1.000000, 8.000000] )\n",
      "BVHNode 8 [Interior]: split_axis = 2 child_0 = 9 child_1 = 10 bounds = (min: [-1.000000, -1.000000, 6.000000] , max: [1.000000, 1.000000, 8.000000] )\n",
      "BVHNode 9 [Leaf]: first_prim_offset = 3 n_primitives = 1 bounds = (min: [-1.000000, 1.000000, 6.000000] , max: [1.000000, 1.000000, 8.000000] )\n",
      "BVHNode 10 [Leaf]: first_prim_offset = 4 n_primitives = 1 bounds = (min: [-1.000000, -1.000000, 8.000000] , max: [1.000000, 1.000000, 8.000000] )\n",
      "BVHNode 11 [Interior]: split_axis = 0 child_0 = 12 child_1 = 13 bounds = (min: [-1.000000, -1.000000, 6.000000] , max: [1.000000, 1.000000, 8.000000] )\n",
      "BVHNode 12 [Leaf]: first_prim_offset = 5 n_primitives = 1 bounds = (min: [-1.000000, -1.000000, 8.000000] , max: [1.000000, 1.000000, 8.000000] )\n",
      "BVHNode 13 [Leaf]: first_prim_offset = 6 n_primitives = 1 bounds = (min: [1.000000, -1.000000, 6.000000] , max: [1.000000, 1.000000, 8.000000] )\n",
      "BVHNode 14 [Interior]: split_axis = 2 child_0 = 15 child_1 = 22 bounds = (min: [-1.228270, -1.000000, -0.847495] , max: [1.000000, 2.200000, 8.000000] )\n",
      "BVHNode 15 [Interior]: split_axis = 0 child_0 = 16 child_1 = 19 bounds = (min: [-1.000000, -1.000000, 6.000000] , max: [1.000000, 1.000000, 8.000000] )\n",
      "BVHNode 16 [Interior]: split_axis = 0 child_0 = 17 child_1 = 18 bounds = (min: [-1.000000, -1.000000, 6.000000] , max: [1.000000, 1.000000, 8.000000] )\n",
      "BVHNode 17 [Leaf]: first_prim_offset = 7 n_primitives = 1 bounds = (min: [1.000000, -1.000000, 6.000000] , max: [1.000000, 1.000000, 8.000000] )\n",
      "BVHNode 18 [Leaf]: first_prim_offset = 8 n_primitives = 1 bounds = (min: [-1.000000, -1.000000, 6.000000] , max: [-1.000000, 1.000000, 8.000000] )\n",
      "BVHNode 19 [Interior]: split_axis = 0 child_0 = 20 child_1 = 21 bounds = (min: [-1.000000, -1.000000, 6.000000] , max: [1.000000, 1.000000, 8.000000] )\n",
      "BVHNode 20 [Leaf]: first_prim_offset = 9 n_primitives = 1 bounds = (min: [-1.000000, -1.000000, 6.000000] , max: [-1.000000, 1.000000, 8.000000] )\n",
      "BVHNode 21 [Leaf]: first_prim_offset = 10 n_primitives = 1 bounds = (min: [-1.000000, -1.000000, 6.000000] , max: [1.000000, 1.000000, 6.000000] )\n",
      "BVHNode 22 [Interior]: split_axis = 2 child_0 = 23 child_1 = 26 bounds = (min: [-1.228270, -1.000000, -0.847495] , max: [1.000000, 2.200000, 7.032000] )\n",
      "BVHNode 23 [Interior]: split_axis = 2 child_0 = 24 child_1 = 25 bounds = (min: [-1.228270, -1.000000, -0.847495] , max: [1.000000, 2.200000, 6.000000] )\n",
      "BVHNode 24 [Leaf]: first_prim_offset = 11 n_primitives = 1 bounds = (min: [-1.000000, -1.000000, 6.000000] , max: [1.000000, 1.000000, 6.000000] )\n",
      "BVHNode 25 [Leaf]: first_prim_offset = 12 n_primitives = 1 bounds = (min: [-1.228270, 0.200000, -0.847495] , max: [0.771730, 2.200000, 1.152505] )\n",
      "BVHNode 26 [Leaf]: first_prim_offset = 13 n_primitives = 2 bounds = (min: [-0.007500, 0.980000, 7.028000] , max: [-0.002500, 0.980000, 7.032000] )\n"
     ]
    }
   ],
   "source": [
    "from tests.test_bvh import print_bvh\n",
    "\n",
    "print_bvh(nodes, total_nodes[None])"
   ],
   "metadata": {
    "collapsed": false,
    "ExecuteTime": {
     "end_time": "2025-02-22T01:40:26.805091Z",
     "start_time": "2025-02-22T01:40:26.773411Z"
    }
   }
  },
  {
   "cell_type": "code",
   "execution_count": 189,
   "outputs": [
    {
     "name": "stdout",
     "output_type": "stream",
     "text": [
      "BVH test error count = 0\n"
     ]
    }
   ],
   "source": [
    "from tests.test_bvh import test_bvh\n",
    "max_nodes = n_primitives\n",
    "debug_stack = ti.field(dtype=ti.i32, shape=(max_nodes,))\n",
    "debug_ptr = ti.field(dtype=ti.i32, shape=(1,))\n",
    "error_count = ti.field(dtype=ti.i32, shape=(1,))\n",
    "\n",
    "test_bvh(nodes, debug_stack, debug_ptr, error_count)"
   ],
   "metadata": {
    "collapsed": false,
    "ExecuteTime": {
     "end_time": "2025-02-22T01:40:26.814648Z",
     "start_time": "2025-02-22T01:40:26.784753Z"
    }
   }
  },
  {
   "cell_type": "code",
   "execution_count": 190,
   "outputs": [
    {
     "name": "stdout",
     "output_type": "stream",
     "text": [
      "Total flattened nodes: 27\n"
     ]
    }
   ],
   "source": [
    "from accelerators.bvh import LinearBVHNode\n",
    "from accelerators.bvh import flatten_bvh\n",
    "\n",
    "# create a linear representation of the bvh tree (empty)\n",
    "\n",
    "LBVS = ti.root.dense(ti.i, total_nodes[None])\n",
    "linear_bvh = LinearBVHNode.field()\n",
    "LBVS.place(linear_bvh)\n",
    "\n",
    "stack_size = 2 * n_primitives - 1  # Maximum possible stack size\n",
    "stack3 = ti.Vector.field(3, dtype=ti.i32, shape=stack_size)\n",
    "stack_top_2 = ti.field(dtype=ti.i32, shape=())\n",
    "\n",
    "start_t = time.time()\n",
    "total_nodes = flatten_bvh(nodes, linear_bvh, 0, stack3, stack_top_2)\n",
    "end_t = time.time()\n",
    "print(f\"Total flattened nodes: {total_nodes}\")"
   ],
   "metadata": {
    "collapsed": false,
    "ExecuteTime": {
     "end_time": "2025-02-22T01:40:26.865053Z",
     "start_time": "2025-02-22T01:40:26.815706Z"
    }
   }
  },
  {
   "cell_type": "code",
   "execution_count": 191,
   "outputs": [
    {
     "data": {
      "text/plain": "14"
     },
     "execution_count": 191,
     "metadata": {},
     "output_type": "execute_result"
    }
   ],
   "source": [
    "linear_bvh[0].second_child_offset"
   ],
   "metadata": {
    "collapsed": false,
    "ExecuteTime": {
     "end_time": "2025-02-22T01:40:26.865462Z",
     "start_time": "2025-02-22T01:40:26.857616Z"
    }
   }
  },
  {
   "cell_type": "code",
   "execution_count": 192,
   "outputs": [
    {
     "name": "stdout",
     "output_type": "stream",
     "text": [
      "Elapsed (with compilation) = 0.02404189109802246\n"
     ]
    }
   ],
   "source": [
    "print(\"Elapsed (with compilation) = %s\" % (end_t - start_t))"
   ],
   "metadata": {
    "collapsed": false,
    "ExecuteTime": {
     "end_time": "2025-02-22T01:40:26.865508Z",
     "start_time": "2025-02-22T01:40:26.858376Z"
    }
   }
  },
  {
   "cell_type": "code",
   "execution_count": 193,
   "outputs": [
    {
     "name": "stdout",
     "output_type": "stream",
     "text": [
      "LinearBVHNode 0 [Interior]: axis = 2 second_child_offset = 14 bounds = (min: [-1.228270, -1.000000, -0.847495] , max: [1.000000, 2.200000, 8.000000] )\n",
      "LinearBVHNode 1 [Interior]: axis = 1 second_child_offset = 7 bounds = (min: [-1.000000, -1.000000, 6.000000] , max: [1.000000, 1.000000, 8.000000] )\n",
      "LinearBVHNode 2 [Interior]: axis = 1 second_child_offset = 4 bounds = (min: [-1.000000, -1.000000, 6.000000] , max: [1.000000, 1.000000, 8.000000] )\n",
      "LinearBVHNode 3 [Leaf]: primitives_offset = 0 n_primitives = 1 bounds = (min: [-1.000000, -1.000000, 6.000000] , max: [1.000000, -1.000000, 8.000000] )\n",
      "LinearBVHNode 4 [Interior]: axis = 1 second_child_offset = 6 bounds = (min: [-1.000000, -1.000000, 6.000000] , max: [1.000000, 1.000000, 8.000000] )\n",
      "LinearBVHNode 5 [Leaf]: primitives_offset = 1 n_primitives = 1 bounds = (min: [-1.000000, -1.000000, 6.000000] , max: [1.000000, -1.000000, 8.000000] )\n",
      "LinearBVHNode 6 [Leaf]: primitives_offset = 2 n_primitives = 1 bounds = (min: [-1.000000, 1.000000, 6.000000] , max: [1.000000, 1.000000, 8.000000] )\n",
      "LinearBVHNode 7 [Interior]: axis = 0 second_child_offset = 11 bounds = (min: [-1.000000, -1.000000, 6.000000] , max: [1.000000, 1.000000, 8.000000] )\n",
      "LinearBVHNode 8 [Interior]: axis = 2 second_child_offset = 10 bounds = (min: [-1.000000, -1.000000, 6.000000] , max: [1.000000, 1.000000, 8.000000] )\n",
      "LinearBVHNode 9 [Leaf]: primitives_offset = 3 n_primitives = 1 bounds = (min: [-1.000000, 1.000000, 6.000000] , max: [1.000000, 1.000000, 8.000000] )\n",
      "LinearBVHNode 10 [Leaf]: primitives_offset = 4 n_primitives = 1 bounds = (min: [-1.000000, -1.000000, 8.000000] , max: [1.000000, 1.000000, 8.000000] )\n",
      "LinearBVHNode 11 [Interior]: axis = 0 second_child_offset = 13 bounds = (min: [-1.000000, -1.000000, 6.000000] , max: [1.000000, 1.000000, 8.000000] )\n",
      "LinearBVHNode 12 [Leaf]: primitives_offset = 5 n_primitives = 1 bounds = (min: [-1.000000, -1.000000, 8.000000] , max: [1.000000, 1.000000, 8.000000] )\n",
      "LinearBVHNode 13 [Leaf]: primitives_offset = 6 n_primitives = 1 bounds = (min: [1.000000, -1.000000, 6.000000] , max: [1.000000, 1.000000, 8.000000] )\n",
      "LinearBVHNode 14 [Interior]: axis = 2 second_child_offset = 22 bounds = (min: [-1.228270, -1.000000, -0.847495] , max: [1.000000, 2.200000, 8.000000] )\n",
      "LinearBVHNode 15 [Interior]: axis = 0 second_child_offset = 19 bounds = (min: [-1.000000, -1.000000, 6.000000] , max: [1.000000, 1.000000, 8.000000] )\n",
      "LinearBVHNode 16 [Interior]: axis = 0 second_child_offset = 18 bounds = (min: [-1.000000, -1.000000, 6.000000] , max: [1.000000, 1.000000, 8.000000] )\n",
      "LinearBVHNode 17 [Leaf]: primitives_offset = 7 n_primitives = 1 bounds = (min: [1.000000, -1.000000, 6.000000] , max: [1.000000, 1.000000, 8.000000] )\n",
      "LinearBVHNode 18 [Leaf]: primitives_offset = 8 n_primitives = 1 bounds = (min: [-1.000000, -1.000000, 6.000000] , max: [-1.000000, 1.000000, 8.000000] )\n",
      "LinearBVHNode 19 [Interior]: axis = 0 second_child_offset = 21 bounds = (min: [-1.000000, -1.000000, 6.000000] , max: [1.000000, 1.000000, 8.000000] )\n",
      "LinearBVHNode 20 [Leaf]: primitives_offset = 9 n_primitives = 1 bounds = (min: [-1.000000, -1.000000, 6.000000] , max: [-1.000000, 1.000000, 8.000000] )\n",
      "LinearBVHNode 21 [Leaf]: primitives_offset = 10 n_primitives = 1 bounds = (min: [-1.000000, -1.000000, 6.000000] , max: [1.000000, 1.000000, 6.000000] )\n",
      "LinearBVHNode 22 [Interior]: axis = 2 second_child_offset = 26 bounds = (min: [-1.228270, -1.000000, -0.847495] , max: [1.000000, 2.200000, 7.032000] )\n",
      "LinearBVHNode 23 [Interior]: axis = 2 second_child_offset = 25 bounds = (min: [-1.228270, -1.000000, -0.847495] , max: [1.000000, 2.200000, 6.000000] )\n",
      "LinearBVHNode 24 [Leaf]: primitives_offset = 11 n_primitives = 1 bounds = (min: [-1.000000, -1.000000, 6.000000] , max: [1.000000, 1.000000, 6.000000] )\n",
      "LinearBVHNode 25 [Leaf]: primitives_offset = 12 n_primitives = 1 bounds = (min: [-1.228270, 0.200000, -0.847495] , max: [0.771730, 2.200000, 1.152505] )\n",
      "LinearBVHNode 26 [Leaf]: primitives_offset = 13 n_primitives = 2 bounds = (min: [-0.007500, 0.980000, 7.028000] , max: [-0.002500, 0.980000, 7.032000] )\n"
     ]
    }
   ],
   "source": [
    "from tests.test_linear_bvh import print_flattened_bvh\n",
    "\n",
    "print_flattened_bvh(linear_bvh, total_nodes)"
   ],
   "metadata": {
    "collapsed": false,
    "ExecuteTime": {
     "end_time": "2025-02-22T01:40:26.871671Z",
     "start_time": "2025-02-22T01:40:26.858459Z"
    }
   }
  },
  {
   "cell_type": "code",
   "execution_count": 194,
   "outputs": [
    {
     "name": "stdout",
     "output_type": "stream",
     "text": [
      "Flattened BVH test error count = 0\n"
     ]
    }
   ],
   "source": [
    "from tests.test_linear_bvh import test_flattened_bvh\n",
    "\n",
    "max_nodes = n_primitives\n",
    "debug_stack = ti.field(dtype=ti.i32, shape=(max_nodes,))\n",
    "debug_ptr = ti.field(dtype=ti.i32, shape=(1,))\n",
    "error_count = ti.field(dtype=ti.i32, shape=(1,))\n",
    "\n",
    "test_flattened_bvh(linear_bvh, debug_stack, debug_ptr, error_count)"
   ],
   "metadata": {
    "collapsed": false,
    "ExecuteTime": {
     "end_time": "2025-02-22T01:40:26.920980Z",
     "start_time": "2025-02-22T01:40:26.872399Z"
    }
   }
  },
  {
   "cell_type": "code",
   "execution_count": 195,
   "outputs": [
    {
     "data": {
      "text/plain": "{'fov': [19.5]}"
     },
     "execution_count": 195,
     "metadata": {},
     "output_type": "execute_result"
    }
   ],
   "source": [
    "# Parse Camera Data\n",
    "\n",
    "camera_data = scene_dict[\"Camera\"][0][\"properties\"]\n",
    "camera_data"
   ],
   "metadata": {
    "collapsed": false,
    "ExecuteTime": {
     "end_time": "2025-02-22T01:40:26.921156Z",
     "start_time": "2025-02-22T01:40:26.908555Z"
    }
   }
  },
  {
   "cell_type": "code",
   "execution_count": 196,
   "outputs": [
    {
     "data": {
      "text/plain": "([-1.22827005 -1.00000012 -0.84749502], [1.00000012 2.20000005 8.        ])"
     },
     "execution_count": 196,
     "metadata": {},
     "output_type": "execute_result"
    }
   ],
   "source": [
    "scene_min[None], scene_max[None]"
   ],
   "metadata": {
    "collapsed": false,
    "ExecuteTime": {
     "end_time": "2025-02-22T01:40:26.921353Z",
     "start_time": "2025-02-22T01:40:26.913228Z"
    }
   }
  },
  {
   "cell_type": "code",
   "execution_count": 220,
   "outputs": [
    {
     "name": "stderr",
     "output_type": "stream",
     "text": [
      "/var/folders/wh/k56cqfld3sb6mcx2fr_1w3rm0000gn/T/ipykernel_16274/2223900968.py:51: UserWarning: Calling non-taichi function \"camera_data.get\". Scope inside the function is not processed by the Taichi AST transformer. The function may not work as expected. Proceed with caution! Maybe you can consider turning it into a @ti.func?\n",
      "  fov_degrees = float(camera_data.get('fov', 45.0)[0])\n"
     ]
    }
   ],
   "source": [
    "import taichi as ti\n",
    "from taichi.math import (\n",
    "    vec3, length, normalize, cross, radians, sin, tan, dot\n",
    ")\n",
    "from base.frame import create_frame\n",
    "from base.camera import PerspectiveCamera\n",
    "\n",
    "@ti.func\n",
    "def frame_look_at(eye, center, up):\n",
    "    \"\"\"\n",
    "    PBRT v4-like LookAt:\n",
    "      - +Z = forward = (center - eye)\n",
    "      - +X = right\n",
    "      - +Y = up\n",
    "    If forward or cross products degenerate, picks a fallback.\n",
    "    \"\"\"\n",
    "    forward_raw = center - eye\n",
    "    if length(forward_raw) < 1e-8:\n",
    "        forward_raw = vec3(0, 0, 1)\n",
    "    forward = normalize(forward_raw)\n",
    "\n",
    "    up_len = length(up)\n",
    "    if up_len < 1e-8:\n",
    "        up = vec3(0, 1, 0)\n",
    "        up_len = 1.0\n",
    "    up_n = up / up_len\n",
    "\n",
    "    # If up is nearly parallel to forward, pick fallback\n",
    "    dot_uf = ti.abs(dot(up_n, forward))\n",
    "    if dot_uf > 0.9999:\n",
    "        fallback = vec3(0, 1, 0)\n",
    "        if ti.abs(dot(fallback, forward)) > 0.9999:\n",
    "            fallback = vec3(1, 0, 0)\n",
    "        up_n = normalize(fallback)\n",
    "\n",
    "    # PBRT style: z = forward, x = cross(up, z), y = cross(z, x)\n",
    "    z = forward\n",
    "    x_raw = cross(up_n, z)\n",
    "    if length(x_raw) < 1e-8:\n",
    "        x_raw = vec3(1, 0, 0)\n",
    "    x = normalize(x_raw)\n",
    "    y = cross(z, x)\n",
    "    return create_frame(x, y, z)\n",
    "\n",
    "@ti.kernel\n",
    "def create_perspective_camera(film_width: int, film_height: int) -> PerspectiveCamera:\n",
    "    \"\"\"\n",
    "    Auto-fit a perspective camera so [scene_min, scene_max] is fully visible.\n",
    "    +Z looks from camera to scene center. +Y is 'up'.\n",
    "    \"\"\"\n",
    "    fov_degrees = float(camera_data.get('fov', 45.0)[0])\n",
    "\n",
    "    lens_radius = 0.0\n",
    "    focal_distance = 1e3\n",
    "    world_up = vec3(0, 1, 0)\n",
    "\n",
    "    # 1) Bounding sphere\n",
    "    c = 0.5 * (scene_min[None] + scene_max[None])\n",
    "    diag = scene_max[None] - scene_min[None]\n",
    "    r = 0.5 * length(diag)\n",
    "    if r < 1e-8:\n",
    "        r = 1.0\n",
    "\n",
    "\n",
    "    # 2) Distance so sphere fits in FOV\n",
    "    local_rad = 0.5 * ti.max(diag.x, ti.max(diag.y, diag.z))\n",
    "    dist = local_rad / tan(0.5 * radians(fov_degrees)) + local_rad\n",
    "\n",
    "\n",
    "    half_fov = radians(0.5 * fov_degrees)\n",
    "    # zoom = 5\n",
    "    # dist = (r / sin(half_fov)) / zoom\n",
    "\n",
    "    # 3) Eye = center - dist*(0,0,1)\n",
    "    eye = c - dist * vec3(0, 0, 1)\n",
    "\n",
    "    # 4) Frame from PBRT-like LookAt\n",
    "    cam_frame = frame_look_at(eye, c, world_up)\n",
    "\n",
    "    # 5) Film plane setup @ z=1 => half-height = tan(half_fov)\n",
    "    aspect = film_width / film_height\n",
    "    screen_height = 2.0 * tan(half_fov)\n",
    "    screen_width  = aspect * screen_height\n",
    "\n",
    "    # Differentials.\n",
    "    # If your final image is upside down, you can flip 'dy_c' or invert 't' in generate_ray()\n",
    "    dx_c = vec3(screen_width / film_width, 0.0, 0.0)\n",
    "    dy_c = vec3(0.0,  screen_height / film_height, 0.0)\n",
    "    # (No minus sign here; we'll handle flips in generate_ray if needed.)\n",
    "\n",
    "    cam = PerspectiveCamera(\n",
    "        width         = film_width,\n",
    "        height        = film_height,\n",
    "        position      = eye,\n",
    "        frame         = cam_frame,\n",
    "        fov           = fov_degrees,\n",
    "        aspect_ratio  = aspect,\n",
    "        lens_radius   = lens_radius,\n",
    "        focal_distance= focal_distance,\n",
    "        screen_dx     = screen_width,\n",
    "        screen_dy     = screen_height,\n",
    "        dx_camera     = dx_c,\n",
    "        dy_camera     = dy_c\n",
    "    )\n",
    "    return cam\n",
    "\n",
    "# Example usage:\n",
    "# scene_min[None] = [...]\n",
    "# scene_max[None] = [...]\n",
    "camera = create_perspective_camera(100, 100)\n"
   ],
   "metadata": {
    "collapsed": false,
    "ExecuteTime": {
     "end_time": "2025-02-22T01:47:27.076774Z",
     "start_time": "2025-02-22T01:47:26.761183Z"
    }
   }
  },
  {
   "cell_type": "code",
   "execution_count": 221,
   "outputs": [],
   "source": [
    "# import taichi as ti\n",
    "# from taichi.math import vec3, normalize, cross, radians, tan\n",
    "# from base.camera import PerspectiveCamera\n",
    "# from base.frame import Frame  # your Frame class\n",
    "#\n",
    "# width = 400\n",
    "# height = 400\n",
    "#\n",
    "# # Global camera field\n",
    "# camera = PerspectiveCamera.field(shape=())\n",
    "#\n",
    "# @ti.kernel\n",
    "# def initialize_camera():\n",
    "#     obj_min = scene_min[None]\n",
    "#     obj_max = scene_max[None]\n",
    "#     center  = 0.5 * (obj_min + obj_max)\n",
    "#     extent  = obj_max - obj_min\n",
    "#     local_rad = 0.5 * ti.max(extent.x, ti.max(extent.y, extent.z))\n",
    "#\n",
    "#     print(obj_min, obj_max, center)\n",
    "#\n",
    "#     fov_degrees = 60.0 #float(camera_data.get('fov', 45.0))\n",
    "#     fov_rad = radians(fov_degrees)\n",
    "#\n",
    "#     d = local_rad / tan(0.5 * fov_rad) + local_rad\n",
    "#     pos = center - vec3(0.0, 1.0, d)\n",
    "#\n",
    "#     forward = normalize(center - pos)\n",
    "#\n",
    "#     camera[None].width = width\n",
    "#     camera[None].height = height\n",
    "#     camera[None].position = pos - vec3([0, 0, 2.5])\n",
    "#\n",
    "#     camera[None].frame = frame_from_z(forward)\n",
    "#\n",
    "#     camera[None].fov = fov_degrees\n",
    "#     aspect_ratio = width / float(height)\n",
    "#     camera[None].aspect_ratio = aspect_ratio\n",
    "#     camera[None].lens_radius = float(camera_data.get('lensradius', 0.0))\n",
    "#     camera[None].focal_distance = d\n",
    "#\n",
    "#     screen_dy = 2.0 * tan(0.5 * fov_rad)\n",
    "#     screen_dx = screen_dy * aspect_ratio\n",
    "#     camera[None].screen_dx = screen_dx\n",
    "#     camera[None].screen_dy = screen_dy\n",
    "#     camera[None].dx_camera = vec3([screen_dx / width, 0.0, 0.0])\n",
    "#     camera[None].dy_camera = vec3([0.0, screen_dy / height, 0.0])\n",
    "#\n",
    "#\n",
    "# initialize_camera()\n"
   ],
   "metadata": {
    "collapsed": false,
    "ExecuteTime": {
     "end_time": "2025-02-22T01:47:27.076922Z",
     "start_time": "2025-02-22T01:47:27.075454Z"
    }
   }
  },
  {
   "cell_type": "code",
   "execution_count": 222,
   "outputs": [
    {
     "data": {
      "text/plain": "{'width': 100, 'height': 100, 'position': [-0.11413496732711792, 0.5999999642372131, -26.59218978881836], 'frame': {'x': [1.0, 0.0, -0.0], 'y': [-0.0, 1.0, 0.0], 'z': [0.0, 0.0, 1.0]}, 'fov': 19.5, 'aspect_ratio': 1.0, 'lens_radius': 0.0, 'focal_distance': 1000.0, 'screen_dx': 0.3436628580093384, 'screen_dy': 0.3436628580093384, 'dx_camera': [0.003436628496274352, 0.0, 0.0], 'dy_camera': [0.0, 0.003436628496274352, 0.0]}"
     },
     "execution_count": 222,
     "metadata": {},
     "output_type": "execute_result"
    }
   ],
   "source": [
    "camera"
   ],
   "metadata": {
    "collapsed": false,
    "ExecuteTime": {
     "end_time": "2025-02-22T01:47:27.088066Z",
     "start_time": "2025-02-22T01:47:27.078844Z"
    }
   }
  },
  {
   "cell_type": "code",
   "execution_count": 223,
   "outputs": [
    {
     "data": {
      "text/plain": "([-1.22827005 -1.00000012 -0.84749502], [1.00000012 2.20000005 8.        ])"
     },
     "execution_count": 223,
     "metadata": {},
     "output_type": "execute_result"
    }
   ],
   "source": [
    "scene_min[None], scene_max[None]"
   ],
   "metadata": {
    "collapsed": false,
    "ExecuteTime": {
     "end_time": "2025-02-22T01:47:27.152067Z",
     "start_time": "2025-02-22T01:47:27.109482Z"
    }
   }
  },
  {
   "cell_type": "code",
   "execution_count": 224,
   "outputs": [
    {
     "data": {
      "text/plain": "{'x': [1.0, 0.0, -0.0], 'y': [-0.0, 1.0, 0.0], 'z': [0.0, 0.0, 1.0]}"
     },
     "execution_count": 224,
     "metadata": {},
     "output_type": "execute_result"
    }
   ],
   "source": [
    "camera.frame"
   ],
   "metadata": {
    "collapsed": false,
    "ExecuteTime": {
     "end_time": "2025-02-22T01:47:30.374961Z",
     "start_time": "2025-02-22T01:47:30.368275Z"
    }
   }
  },
  {
   "cell_type": "code",
   "execution_count": 225,
   "outputs": [
    {
     "name": "stdout",
     "output_type": "stream",
     "text": [
      "[-0.114135, 0.600000, -26.592190] [0.000000, 0.000000, 1.000000] [-0.114135, 0.600000, -26.592190] [0.003437, 0.000000, 0.999994] [-0.114135, 0.600000, -26.592190] [0.000000, 0.003437, 0.999994]\n"
     ]
    }
   ],
   "source": [
    "@ti.kernel\n",
    "def test_camera():\n",
    "    # Generate a ray\n",
    "    s, t = 0.5, 0.5  # Center of the screen\n",
    "    ray_origin, ray_dir, rx_origin, rx_dir, ry_origin, ry_dir = camera.generate_ray_differential(s, t)\n",
    "    print(ray_origin, ray_dir, rx_origin, rx_dir, ry_origin, ry_dir)\n",
    "\n",
    "test_camera()"
   ],
   "metadata": {
    "collapsed": false,
    "ExecuteTime": {
     "end_time": "2025-02-22T01:47:30.598015Z",
     "start_time": "2025-02-22T01:47:30.542230Z"
    }
   }
  },
  {
   "cell_type": "code",
   "execution_count": 226,
   "outputs": [],
   "source": [
    "from base.scene import Scene\n",
    "\n",
    "pt = 0\n",
    "mis = 1\n",
    "\n",
    "# Instantiate a Scene object with the Camera object\n",
    "scene = Scene(integrator=pt, spp=64, max_depth=6, sample_lights=1, sample_bsdf=1)"
   ],
   "metadata": {
    "collapsed": false,
    "ExecuteTime": {
     "end_time": "2025-02-22T01:47:30.811325Z",
     "start_time": "2025-02-22T01:47:30.801021Z"
    }
   }
  },
  {
   "cell_type": "code",
   "execution_count": 227,
   "outputs": [
    {
     "name": "stdout",
     "output_type": "stream",
     "text": [
      "Elapsed (with compilation) = 15.316709041595459\n"
     ]
    }
   ],
   "source": [
    "from base.render import render\n",
    "\n",
    "# Initialize the image field outside the kernel using the actual values\n",
    "image = ti.Vector.field(3, dtype=ti.f32, shape=(camera.width, camera.height))\n",
    "\n",
    "\n",
    "start_t = time.time()\n",
    "\n",
    "# Call the render_scene kernel\n",
    "render(scene, image, lights, camera, ordered_prims, linear_bvh)\n",
    "\n",
    "end_t = time.time()\n",
    "\n",
    "print(\"Elapsed (with compilation) = %s\" % (end_t - start_t))"
   ],
   "metadata": {
    "collapsed": false,
    "ExecuteTime": {
     "end_time": "2025-02-22T01:47:46.243064Z",
     "start_time": "2025-02-22T01:47:30.913238Z"
    }
   }
  },
  {
   "cell_type": "code",
   "execution_count": 228,
   "outputs": [
    {
     "data": {
      "text/plain": "<Figure size 640x480 with 1 Axes>",
      "image/png": "[encoded data removed]"
     },
     "metadata": {},
     "output_type": "display_data"
    }
   ],
   "source": [
    "image_np = image.to_numpy()\n",
    "# if np.isnan(image_np).any() or np.isinf(image_np).any():\n",
    "#     print(\"Warning: NaN or Inf values detected in the image\")\n",
    "# image_np = np.clip(image_np, 0, 1)  # Clip values between 0 and 1\n",
    "plt.imshow(image_np)\n",
    "plt.axis('off')\n",
    "plt.show()"
   ],
   "metadata": {
    "collapsed": false,
    "ExecuteTime": {
     "end_time": "2025-02-22T01:47:46.307141Z",
     "start_time": "2025-02-22T01:47:46.244939Z"
    }
   }
  },
  {
   "cell_type": "code",
   "execution_count": 229,
   "outputs": [
    {
     "data": {
      "text/plain": "<Figure size 640x480 with 1 Axes>",
      "image/png": "[encoded data removed]"
     },
     "metadata": {},
     "output_type": "display_data"
    }
   ],
   "source": [
    "def tone_mapping(hdr_image, gamma=2.2):\n",
    "    ldr_image = hdr_image / (1.0 + hdr_image)\n",
    "    ldr_image = np.power(ldr_image, 1.0 / gamma)\n",
    "    return np.clip(ldr_image, 0, 1)\n",
    "\n",
    "ldr_image = tone_mapping(image_np)\n",
    "\n",
    "# Display the tone-mapped image\n",
    "plt.imshow(ldr_image)\n",
    "plt.axis('off')\n",
    "plt.show()"
   ],
   "metadata": {
    "collapsed": false,
    "ExecuteTime": {
     "end_time": "2025-02-22T01:47:46.342299Z",
     "start_time": "2025-02-22T01:47:46.308584Z"
    }
   }
  },
  {
   "cell_type": "code",
   "execution_count": 207,
   "outputs": [
    {
     "ename": "NameError",
     "evalue": "name 'r' is not defined",
     "output_type": "error",
     "traceback": [
      "\u001B[0;31m---------------------------------------------------------------------------\u001B[0m",
      "\u001B[0;31mNameError\u001B[0m                                 Traceback (most recent call last)",
      "Cell \u001B[0;32mIn[207], line 1\u001B[0m\n\u001B[0;32m----> 1\u001B[0m \u001B[43mr\u001B[49m\n",
      "\u001B[0;31mNameError\u001B[0m: name 'r' is not defined"
     ]
    }
   ],
   "source": [
    "r"
   ],
   "metadata": {
    "collapsed": false,
    "ExecuteTime": {
     "end_time": "2025-02-22T01:40:42.572664Z",
     "start_time": "2025-02-22T01:40:42.544328Z"
    }
   }
  },
  {
   "cell_type": "code",
   "execution_count": null,
   "outputs": [],
   "source": [],
   "metadata": {
    "collapsed": false,
    "ExecuteTime": {
     "start_time": "2025-02-22T01:40:42.553211Z"
    }
   }
  },
  {
   "cell_type": "code",
   "execution_count": null,
   "outputs": [],
   "source": [],
   "metadata": {
    "collapsed": false,
    "ExecuteTime": {
     "start_time": "2025-02-22T01:40:42.555029Z"
    }
   }
  },
  {
   "cell_type": "code",
   "execution_count": null,
   "outputs": [],
   "source": [],
   "metadata": {
    "collapsed": false,
    "ExecuteTime": {
     "start_time": "2025-02-22T01:40:42.556679Z"
    }
   }
  },
  {
   "cell_type": "code",
   "execution_count": null,
   "outputs": [],
   "source": [],
   "metadata": {
    "collapsed": false,
    "ExecuteTime": {
     "start_time": "2025-02-22T01:40:42.558081Z"
    }
   }
  },
  {
   "cell_type": "code",
   "execution_count": null,
   "outputs": [],
   "source": [],
   "metadata": {
    "collapsed": false,
    "ExecuteTime": {
     "start_time": "2025-02-22T01:40:42.560873Z"
    }
   }
  }
 ],
 "metadata": {
  "accelerator": "GPU",
  "colab": {
   "provenance": []
  },
  "kernelspec": {
   "display_name": "Python 3 (ipykernel)",
   "language": "python",
   "name": "python3"
  },
  "language_info": {
   "codemirror_mode": {
    "name": "ipython",
    "version": 3
   },
   "file_extension": ".py",
   "mimetype": "text/x-python",
   "name": "python",
   "nbconvert_exporter": "python",
   "pygments_lexer": "ipython3",
   "version": "3.10.0"
  }
 },
 "nbformat": 4,
 "nbformat_minor": 1
}
