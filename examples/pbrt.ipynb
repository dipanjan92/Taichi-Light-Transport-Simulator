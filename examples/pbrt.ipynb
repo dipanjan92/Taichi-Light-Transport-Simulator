{
 "cells": [
  {
   "cell_type": "markdown",
   "source": [
    "# Path Tracing Notebook\n",
    "Implementation of Light Transport Algorithms"
   ],
   "metadata": {
    "collapsed": false,
    "pycharm": {
     "name": "#%% md\n"
    }
   }
  },
  {
   "cell_type": "markdown",
   "source": [
    "********************************************************************************************"
   ],
   "metadata": {
    "collapsed": false,
    "pycharm": {
     "name": "#%% md\n"
    }
   }
  },
  {
   "cell_type": "code",
   "execution_count": 1,
   "outputs": [
    {
     "name": "stdout",
     "output_type": "stream",
     "text": [
      "[Taichi] version 1.6.0, llvm 15.0.7, commit f1c6fbbd, osx, python 3.11.4\n",
      "[Taichi] Starting on arch=arm64\n"
     ]
    },
    {
     "name": "stderr",
     "output_type": "stream",
     "text": [
      "[I 02/22/25 02:40:22.928 62364639] [shell.py:_shell_pop_print@23] Graphical python shell detected, using wrapped sys.stdout\n"
     ]
    }
   ],
   "source": [
    "import taichi as ti\n",
    "ti.init(arch=ti.cpu, debug=True, random_seed=68739)"
   ],
   "metadata": {
    "collapsed": false,
    "ExecuteTime": {
     "end_time": "2025-02-22T02:40:23.359735Z",
     "start_time": "2025-02-22T02:40:22.707479Z"
    }
   }
  },
  {
   "cell_type": "code",
   "execution_count": 2,
   "outputs": [],
   "source": [
    "import time\n",
    "from pathlib import Path\n",
    "import matplotlib.pyplot as plt\n",
    "import numpy as np\n",
    "from taichi.math import vec3, cross, normalize, dot"
   ],
   "metadata": {
    "collapsed": false,
    "ExecuteTime": {
     "end_time": "2025-02-22T02:40:23.511426Z",
     "start_time": "2025-02-22T02:40:23.284301Z"
    }
   }
  },
  {
   "cell_type": "code",
   "execution_count": 3,
   "outputs": [],
   "source": [
    "from primitives.primitives import Triangle, Sphere, Primitive\n",
    "from base.frame import Frame, frame_from_z\n",
    "from base.materials import Material\n",
    "from base.bsdf import BSDF\n",
    "from primitives.ray import Ray\n",
    "from base.lights import DiffuseAreaLight, UniformLightSampler\n",
    "from base.camera import PerspectiveCamera"
   ],
   "metadata": {
    "collapsed": false,
    "ExecuteTime": {
     "end_time": "2025-02-22T02:40:23.569690Z",
     "start_time": "2025-02-22T02:40:23.498323Z"
    }
   }
  },
  {
   "cell_type": "code",
   "execution_count": 4,
   "outputs": [],
   "source": [
    "cornell_box = \"../scenes/cornell-box.pbrt\"\n",
    "volumetric_caustic = \"../scenes/volumetric-caustic.pbrt\"\n",
    "door_scene = \"../scenes/veach/veach-ajar.pbrt\"\n",
    "testball =\"../scenes/material-testball/scene-v4.pbrt\"\n",
    "one = \"../scenes/one.pbrt\"\n",
    "cb = \"../scenes/cb.pbrt\"\n",
    "cb_spheres = \"../scenes/cb-spheres.pbrt\"\n",
    "veach_mis = \"../scenes/veach-mis/scene-v4.pbrt\"\n",
    "\n",
    "\n",
    "file_path = cornell_box"
   ],
   "metadata": {
    "collapsed": false,
    "ExecuteTime": {
     "end_time": "2025-02-22T02:40:23.572413Z",
     "start_time": "2025-02-22T02:40:23.570504Z"
    }
   }
  },
  {
   "cell_type": "code",
   "execution_count": 5,
   "outputs": [
    {
     "data": {
      "text/plain": "<ti.SNode of type dense>"
     },
     "execution_count": 5,
     "metadata": {},
     "output_type": "execute_result"
    }
   ],
   "source": [
    "from primitives.primitives import Primitive\n",
    "\n",
    "n_p = 1024\n",
    "PS = ti.root.dense(ti.i, n_p)\n",
    "primitives = Primitive.field()\n",
    "PS.place(primitives)"
   ],
   "metadata": {
    "collapsed": false,
    "ExecuteTime": {
     "end_time": "2025-02-22T02:40:23.603012Z",
     "start_time": "2025-02-22T02:40:23.573850Z"
    }
   }
  },
  {
   "cell_type": "code",
   "execution_count": 6,
   "outputs": [],
   "source": [
    "from pbrt.material_parser import parse_materials\n",
    "from pbrt.shape_parser import extract_all_shapes, parse_shapes\n",
    "from pbrt.parser import pbrt_to_dict\n",
    "\n",
    "# Parse the scene\n",
    "scene_dict = pbrt_to_dict(file_path)\n",
    "\n",
    "# Extract the shapes\n",
    "shapes_list = extract_all_shapes(file_path)\n",
    "\n",
    "# Parse the materials\n",
    "materials = scene_dict.get(\"MakeNamedMaterial\", [])\n",
    "parsed_materials = parse_materials(materials)\n",
    "\n",
    "# Extract Primitives\n",
    "n_primitives, light_count = parse_shapes(shapes_list, materials, primitives)"
   ],
   "metadata": {
    "collapsed": false,
    "ExecuteTime": {
     "end_time": "2025-02-22T02:40:24.299979Z",
     "start_time": "2025-02-22T02:40:23.603184Z"
    }
   }
  },
  {
   "cell_type": "code",
   "execution_count": 7,
   "outputs": [
    {
     "data": {
      "text/plain": "(36, 2)"
     },
     "execution_count": 7,
     "metadata": {},
     "output_type": "execute_result"
    }
   ],
   "source": [
    "n_primitives, light_count"
   ],
   "metadata": {
    "collapsed": false,
    "ExecuteTime": {
     "end_time": "2025-02-22T02:40:24.300563Z",
     "start_time": "2025-02-22T02:40:24.297385Z"
    }
   }
  },
  {
   "cell_type": "code",
   "execution_count": 8,
   "outputs": [
    {
     "data": {
      "text/plain": "<ti.SNode of type dense>"
     },
     "execution_count": 8,
     "metadata": {},
     "output_type": "execute_result"
    }
   ],
   "source": [
    "from base.lights import DiffuseAreaLight\n",
    "\n",
    "# Create a Taichi field for light sources\n",
    "n_lights = light_count\n",
    "LS = ti.root.dense(ti.i, n_lights)\n",
    "lights = DiffuseAreaLight.field()\n",
    "LS.place(lights)"
   ],
   "metadata": {
    "collapsed": false,
    "ExecuteTime": {
     "end_time": "2025-02-22T02:40:24.303876Z",
     "start_time": "2025-02-22T02:40:24.300869Z"
    }
   }
  },
  {
   "cell_type": "code",
   "execution_count": 9,
   "outputs": [
    {
     "name": "stdout",
     "output_type": "stream",
     "text": [
      "34 [17.000000, 12.000000, 4.000000]\n",
      "35 [17.000000, 12.000000, 4.000000]\n"
     ]
    }
   ],
   "source": [
    "@ti.kernel\n",
    "def populate_shapes():\n",
    "\n",
    "    for i in range(n_primitives):\n",
    "\n",
    "        primitives[i].bsdf.diffuse.type = 0\n",
    "        primitives[i].bsdf.transmit.type = 1\n",
    "        primitives[i].bsdf.dielectric.type = 2\n",
    "        primitives[i].bsdf.conductor.type = 3\n",
    "        primitives[i].bsdf.mirror.type = 4\n",
    "        primitives[i].bsdf.specular.type = 5\n",
    "\n",
    "        material = primitives[i].material\n",
    "\n",
    "        if material.material_type==0:\n",
    "            # Diffuse material\n",
    "            primitives[i].bsdf.add_diffuse(material.reflectance)\n",
    "        elif material.material_type==1:\n",
    "            # Diffuse-Transmission material\n",
    "            primitives[i].bsdf.add_transmission(material.reflectance, material.transmittance)\n",
    "        elif material.material_type==2:\n",
    "            # Dielectric material\n",
    "            primitives[i].bsdf.add_dielectric(material.eta[0], material.reflectance, material.uroughness, material.vroughness)\n",
    "        elif material.material_type==3:\n",
    "            # Conductor material\n",
    "            print(material.eta)\n",
    "            primitives[i].bsdf.add_conductor(material.eta, material.k, material.uroughness, material.vroughness)\n",
    "\n",
    "        if primitives[i].is_light == 1:\n",
    "            print(i, primitives[i].material.emission)\n",
    "            light_idx = primitives[i].light_idx\n",
    "            lights[light_idx].shape_idx = i  # Link the light to the primitive\n",
    "            lights[light_idx].two_sided = 0  # Assuming lights are one-sided\n",
    "            lights[light_idx].Le = primitives[i].material.emission\n",
    "            light_idx += 1\n",
    "\n",
    "populate_shapes()"
   ],
   "metadata": {
    "collapsed": false,
    "ExecuteTime": {
     "end_time": "2025-02-22T02:40:24.402776Z",
     "start_time": "2025-02-22T02:40:24.305063Z"
    }
   }
  },
  {
   "cell_type": "code",
   "execution_count": 10,
   "outputs": [
    {
     "data": {
      "text/plain": "{'material_type': <taichi.lang.field.SNodeHostAccess object at 0x109dff310>, 'reflectance': [0.0, 0.0, 0.0], 'transmittance': [0.0, 0.0, 0.0], 'uroughness': <taichi.lang.field.SNodeHostAccess object at 0x10a346810>, 'vroughness': <taichi.lang.field.SNodeHostAccess object at 0x10a347a50>, 'eta': [1.0, 1.0, 1.0], 'k': [0.0, 0.0, 0.0], 'emission': [17.0, 12.0, 4.0]}"
     },
     "execution_count": 10,
     "metadata": {},
     "output_type": "execute_result"
    }
   ],
   "source": [
    "primitives[35].material"
   ],
   "metadata": {
    "collapsed": false,
    "ExecuteTime": {
     "end_time": "2025-02-22T02:40:24.580530Z",
     "start_time": "2025-02-22T02:40:24.372444Z"
    }
   }
  },
  {
   "cell_type": "code",
   "execution_count": 11,
   "outputs": [
    {
     "data": {
      "text/plain": "{'shape_idx': array([34, 35], dtype=int32),\n 'Le': array([[17., 12.,  4.],\n        [17., 12.,  4.]], dtype=float32),\n 'two_sided': array([0, 0], dtype=int32)}"
     },
     "execution_count": 11,
     "metadata": {},
     "output_type": "execute_result"
    }
   ],
   "source": [
    "lights.to_numpy()"
   ],
   "metadata": {
    "collapsed": false,
    "ExecuteTime": {
     "end_time": "2025-02-22T02:40:24.582461Z",
     "start_time": "2025-02-22T02:40:24.467Z"
    }
   }
  },
  {
   "cell_type": "code",
   "execution_count": 12,
   "outputs": [
    {
     "data": {
      "text/plain": "(36, 36)"
     },
     "execution_count": 12,
     "metadata": {},
     "output_type": "execute_result"
    }
   ],
   "source": [
    "from primitives.aabb import AABB, BVHPrimitive\n",
    "\n",
    "# Enclose all the primitives in their individual axis-aligned bounding boxes (AABB)\n",
    "BS = ti.root.dense(ti.i, n_primitives)\n",
    "bvh_primitives = BVHPrimitive.field()\n",
    "BS.place(bvh_primitives)\n",
    "\n",
    "scene_min = ti.Vector.field(3, dtype=ti.f32, shape=())  # Global min bounds\n",
    "scene_max = ti.Vector.field(3, dtype=ti.f32, shape=())  # Global max bounds\n",
    "\n",
    "@ti.kernel\n",
    "def init_bounded_boxes():\n",
    "    # Initialize scene bounding box with extreme values\n",
    "    scene_min[None] = vec3(1e10, 1e10, 1e10)\n",
    "    scene_max[None] = vec3(-1e10, -1e10, -1e10)\n",
    "\n",
    "    for i in ti.ndrange(n_primitives):\n",
    "        bvh_primitives[i].prim = primitives[i]\n",
    "        bvh_primitives[i].prim_num = i\n",
    "\n",
    "        # Get primitive bounds\n",
    "        min_p, max_p = primitives[i].get_bounds()\n",
    "        centroid = (min_p + max_p) * 0.5\n",
    "        bvh_primitives[i].bounds = AABB(min_point=min_p, max_point=max_p, centroid=centroid)\n",
    "\n",
    "        # Update scene-wide bounding box\n",
    "        for j in range(3):  # Loop over x, y, z components\n",
    "            scene_min[None][j] = min(scene_min[None][j], min_p[j])\n",
    "            scene_max[None][j] = max(scene_max[None][j], max_p[j])\n",
    "\n",
    "\n",
    "init_bounded_boxes()\n",
    "\n",
    "bvh_primitives.shape[0], n_primitives"
   ],
   "metadata": {
    "collapsed": false,
    "pycharm": {
     "name": "#%%\n"
    },
    "ExecuteTime": {
     "end_time": "2025-02-22T02:40:24.660047Z",
     "start_time": "2025-02-22T02:40:24.517567Z"
    }
   }
  },
  {
   "cell_type": "code",
   "execution_count": 13,
   "outputs": [
    {
     "data": {
      "text/plain": "<ti.SNode of type dense>"
     },
     "execution_count": 13,
     "metadata": {},
     "output_type": "execute_result"
    }
   ],
   "source": [
    "OPS = ti.root.dense(ti.i, n_primitives)\n",
    "ordered_prims = Primitive.field()\n",
    "OPS.place(ordered_prims)"
   ],
   "metadata": {
    "collapsed": false,
    "ExecuteTime": {
     "end_time": "2025-02-22T02:40:24.702586Z",
     "start_time": "2025-02-22T02:40:24.659091Z"
    }
   }
  },
  {
   "cell_type": "code",
   "execution_count": 14,
   "outputs": [
    {
     "data": {
      "text/plain": "<ti.SNode of type dense>"
     },
     "execution_count": 14,
     "metadata": {},
     "output_type": "execute_result"
    }
   ],
   "source": [
    "from accelerators.bvh import BVHNode, BucketInfo\n",
    "\n",
    "node_idx = 0\n",
    "\n",
    "BVS = ti.root.dense(ti.i, 3 * n_primitives)\n",
    "nodes = BVHNode.field()\n",
    "BVS.place(nodes)\n"
   ],
   "metadata": {
    "collapsed": false,
    "ExecuteTime": {
     "end_time": "2025-02-22T02:40:24.703254Z",
     "start_time": "2025-02-22T02:40:24.684472Z"
    }
   }
  },
  {
   "cell_type": "code",
   "execution_count": 15,
   "outputs": [
    {
     "data": {
      "text/plain": "108"
     },
     "execution_count": 15,
     "metadata": {},
     "output_type": "execute_result"
    }
   ],
   "source": [
    "nodes.shape[0]"
   ],
   "metadata": {
    "collapsed": false,
    "ExecuteTime": {
     "end_time": "2025-02-22T02:40:24.703315Z",
     "start_time": "2025-02-22T02:40:24.695879Z"
    }
   }
  },
  {
   "cell_type": "code",
   "execution_count": 16,
   "outputs": [],
   "source": [
    "total_nodes = ti.field(ti.i32, shape=())\n",
    "split_method = ti.field(ti.i32, shape=())\n",
    "start = ti.field(ti.i32, shape=())\n",
    "end = ti.field(ti.i32, shape=())\n",
    "ordered_prims_idx = ti.field(ti.i32, shape=())\n",
    "stack_ptr = ti.field(ti.i32, shape=())\n",
    "# ordered_prims_size = ti.field(ti.i32, shape=())\n",
    "\n",
    "@ti.kernel\n",
    "def init_stack():\n",
    "    total_nodes[None] = 0\n",
    "    split_method[None] = 0\n",
    "    start[None] = 0\n",
    "    end[None] = n_primitives\n",
    "    ordered_prims_idx[None] = 0\n",
    "    stack_ptr[None] = 0\n",
    "    # ordered_prims_size[None] = 0\n",
    "\n",
    "init_stack()"
   ],
   "metadata": {
    "collapsed": false,
    "ExecuteTime": {
     "end_time": "2025-02-22T02:40:24.703600Z",
     "start_time": "2025-02-22T02:40:24.695977Z"
    }
   }
  },
  {
   "cell_type": "code",
   "execution_count": 17,
   "outputs": [],
   "source": [
    "stack = ti.field(ti.i32, shape=(3*n_primitives, 4))\n",
    "n_buckets = 12\n",
    "buckets = BucketInfo.field(shape=(n_buckets))\n",
    "costs = ti.field(dtype=ti.f32, shape=(n_buckets-1))"
   ],
   "metadata": {
    "collapsed": false,
    "ExecuteTime": {
     "end_time": "2025-02-22T02:40:24.712141Z",
     "start_time": "2025-02-22T02:40:24.703748Z"
    }
   }
  },
  {
   "cell_type": "code",
   "execution_count": 18,
   "outputs": [],
   "source": [
    "from accelerators.bvh import build_bvh\n",
    "\n",
    "start_t = time.time()\n",
    "\n",
    "build_bvh(primitives, bvh_primitives, start, end, ordered_prims, nodes, total_nodes, split_method, stack, stack_ptr, ordered_prims_idx, costs, buckets)\n",
    "\n",
    "end_t = time.time()"
   ],
   "metadata": {
    "collapsed": false,
    "ExecuteTime": {
     "end_time": "2025-02-22T02:40:24.982227Z",
     "start_time": "2025-02-22T02:40:24.710171Z"
    }
   }
  },
  {
   "cell_type": "code",
   "execution_count": 19,
   "outputs": [],
   "source": [
    "# total_nodes = ti.field(ti.i32, shape=())\n",
    "# split_method = ti.field(ti.i32, shape=())\n",
    "# start = ti.field(ti.i32, shape=())\n",
    "# end = ti.field(ti.i32, shape=())\n",
    "# ordered_prims_idx = ti.field(ti.i32, shape=())\n",
    "# stack_ptr = ti.field(ti.i32, shape=())\n",
    "# max_prims_in_node = ti.field(ti.i32, shape=())\n",
    "# # ordered_prims_size = ti.field(ti.i32, shape=())\n",
    "#\n",
    "# @ti.kernel\n",
    "# def init_stack():\n",
    "#     total_nodes[None] = 0\n",
    "#     split_method[None] = 0\n",
    "#     start[None] = 0\n",
    "#     end[None] = n_primitives\n",
    "#     ordered_prims_idx[None] = 0\n",
    "#     stack_ptr[None] = 0\n",
    "#     max_prims_in_node[None] = 4\n",
    "#\n",
    "# init_stack()"
   ],
   "metadata": {
    "collapsed": false,
    "ExecuteTime": {
     "end_time": "2025-02-22T02:40:24.984337Z",
     "start_time": "2025-02-22T02:40:24.982443Z"
    }
   }
  },
  {
   "cell_type": "code",
   "execution_count": 20,
   "outputs": [],
   "source": [
    "# stack = ti.field(ti.i32, shape=(3*n_primitives, 4))\n",
    "# n_buckets = 12\n",
    "# buckets = BucketInfo.field(shape=(n_buckets))\n",
    "# costs = ti.field(dtype=ti.f32, shape=(n_buckets-1))"
   ],
   "metadata": {
    "collapsed": false,
    "ExecuteTime": {
     "end_time": "2025-02-22T02:40:24.985947Z",
     "start_time": "2025-02-22T02:40:24.983993Z"
    }
   }
  },
  {
   "cell_type": "code",
   "execution_count": 21,
   "outputs": [],
   "source": [
    "# from accelerators.hlbvh import build_hlbvh\n",
    "# from accelerators.bvh import build_bvh\n",
    "#\n",
    "# start_t = time.time()\n",
    "#\n",
    "# root = ti.field(ti.i32, shape=())\n",
    "#\n",
    "# build_hlbvh(\n",
    "#     primitives,\n",
    "#     bvh_primitives,\n",
    "#     ordered_prims,\n",
    "#     n_primitives,       # number of actual primitives\n",
    "#     nodes,\n",
    "#     total_nodes,\n",
    "#     ordered_prims_idx,  # you already have this\n",
    "#     max_prims_in_node,\n",
    "#     root\n",
    "# )\n",
    "#\n",
    "# end_t = time.time()"
   ],
   "metadata": {
    "collapsed": false,
    "ExecuteTime": {
     "end_time": "2025-02-22T02:40:24.987434Z",
     "start_time": "2025-02-22T02:40:24.985728Z"
    }
   }
  },
  {
   "cell_type": "code",
   "execution_count": 22,
   "outputs": [
    {
     "name": "stdout",
     "output_type": "stream",
     "text": [
      "Elapsed (with compilation) = 0.26944899559020996\n",
      "Total Nodes: 57\n"
     ]
    }
   ],
   "source": [
    "print(\"Elapsed (with compilation) = %s\" % (end_t - start_t))\n",
    "print(f\"Total Nodes: {total_nodes}\")"
   ],
   "metadata": {
    "collapsed": false,
    "ExecuteTime": {
     "end_time": "2025-02-22T02:40:24.996144Z",
     "start_time": "2025-02-22T02:40:24.988519Z"
    }
   }
  },
  {
   "cell_type": "code",
   "execution_count": 23,
   "outputs": [
    {
     "name": "stdout",
     "output_type": "stream",
     "text": [
      "BVHNode 0 [Interior]: split_axis = 1 child_0 = 1 child_1 = 30 bounds = (min: [-1.000000, -1.000000, 5.800000] , max: [1.000000, 1.000000, 7.800000] )\n",
      "BVHNode 1 [Interior]: split_axis = 1 child_0 = 2 child_1 = 13 bounds = (min: [-1.000000, -1.000000, 5.800000] , max: [1.000000, 1.000000, 7.800000] )\n",
      "BVHNode 2 [Interior]: split_axis = 1 child_0 = 3 child_1 = 6 bounds = (min: [-1.000000, -1.000000, 5.800000] , max: [1.000000, 1.000000, 7.800000] )\n",
      "BVHNode 3 [Interior]: split_axis = 1 child_0 = 4 child_1 = 5 bounds = (min: [-1.000000, -1.000000, 5.800000] , max: [1.000000, 1.000000, 7.800000] )\n",
      "BVHNode 4 [Leaf]: first_prim_offset = 0 n_primitives = 2 bounds = (min: [-1.000000, -1.000000, 5.800000] , max: [1.000000, -1.000000, 7.800000] )\n",
      "BVHNode 5 [Leaf]: first_prim_offset = 2 n_primitives = 2 bounds = (min: [-1.000000, 1.000000, 5.800000] , max: [1.000000, 1.000000, 7.800000] )\n",
      "BVHNode 6 [Interior]: split_axis = 0 child_0 = 7 child_1 = 8 bounds = (min: [-1.000000, -1.000000, 5.800000] , max: [1.000000, 1.000000, 7.800000] )\n",
      "BVHNode 7 [Leaf]: first_prim_offset = 4 n_primitives = 2 bounds = (min: [-1.000000, -1.000000, 7.800000] , max: [1.000000, 1.000000, 7.800000] )\n",
      "BVHNode 8 [Interior]: split_axis = 0 child_0 = 9 child_1 = 10 bounds = (min: [-1.000000, -1.000000, 5.800000] , max: [1.000000, 1.000000, 7.800000] )\n",
      "BVHNode 9 [Leaf]: first_prim_offset = 6 n_primitives = 1 bounds = (min: [1.000000, -1.000000, 5.800000] , max: [1.000000, 1.000000, 7.800000] )\n",
      "BVHNode 10 [Interior]: split_axis = 0 child_0 = 11 child_1 = 12 bounds = (min: [-1.000000, -1.000000, 5.800000] , max: [1.000000, 1.000000, 7.800000] )\n",
      "BVHNode 11 [Leaf]: first_prim_offset = 7 n_primitives = 1 bounds = (min: [1.000000, -1.000000, 5.800000] , max: [1.000000, 1.000000, 7.800000] )\n",
      "BVHNode 12 [Leaf]: first_prim_offset = 8 n_primitives = 1 bounds = (min: [-1.000000, -1.000000, 5.800000] , max: [-1.000000, 1.000000, 7.800000] )\n",
      "BVHNode 13 [Interior]: split_axis = 0 child_0 = 14 child_1 = 21 bounds = (min: [-1.000000, -1.000000, 5.800000] , max: [0.703337, 1.000000, 7.800000] )\n",
      "BVHNode 14 [Interior]: split_axis = 0 child_0 = 15 child_1 = 18 bounds = (min: [-1.000000, -1.000000, 5.800000] , max: [0.703337, 1.000000, 7.800000] )\n",
      "BVHNode 15 [Interior]: split_axis = 0 child_0 = 16 child_1 = 17 bounds = (min: [-1.000000, -1.000000, 5.800000] , max: [0.124253, 1.000000, 7.800000] )\n",
      "BVHNode 16 [Leaf]: first_prim_offset = 9 n_primitives = 1 bounds = (min: [-1.000000, -1.000000, 5.800000] , max: [-1.000000, 1.000000, 7.800000] )\n",
      "BVHNode 17 [Leaf]: first_prim_offset = 10 n_primitives = 1 bounds = (min: [-0.046075, -1.000000, 6.226993] , max: [0.124253, -0.400000, 6.796896] )\n",
      "BVHNode 18 [Interior]: split_axis = 0 child_0 = 19 child_1 = 20 bounds = (min: [-0.046075, -1.000000, 6.053921] , max: [0.703337, -0.400000, 6.796896] )\n",
      "BVHNode 19 [Leaf]: first_prim_offset = 11 n_primitives = 1 bounds = (min: [-0.046075, -1.000000, 6.226993] , max: [0.124253, -0.400000, 6.796896] )\n",
      "BVHNode 20 [Leaf]: first_prim_offset = 12 n_primitives = 1 bounds = (min: [0.533009, -1.000000, 6.053921] , max: [0.703337, -0.400000, 6.623823] )\n",
      "BVHNode 21 [Interior]: split_axis = 1 child_0 = 22 child_1 = 25 bounds = (min: [-0.046075, -1.000000, 6.053921] , max: [0.703337, -0.400000, 6.796896] )\n",
      "BVHNode 22 [Interior]: split_axis = 0 child_0 = 23 child_1 = 24 bounds = (min: [-0.046075, -1.000000, 6.053921] , max: [0.703337, -0.400000, 6.796896] )\n",
      "BVHNode 23 [Leaf]: first_prim_offset = 13 n_primitives = 1 bounds = (min: [0.533009, -1.000000, 6.053921] , max: [0.703337, -0.400000, 6.623823] )\n",
      "BVHNode 24 [Leaf]: first_prim_offset = 14 n_primitives = 1 bounds = (min: [-0.046075, -0.400000, 6.053921] , max: [0.533009, -0.400000, 6.796896] )\n",
      "BVHNode 25 [Interior]: split_axis = 1 child_0 = 26 child_1 = 27 bounds = (min: [-0.046075, -1.000000, 6.053921] , max: [0.703337, -0.400000, 6.796896] )\n",
      "BVHNode 26 [Leaf]: first_prim_offset = 15 n_primitives = 1 bounds = (min: [0.124253, -0.400000, 6.053921] , max: [0.703337, -0.400000, 6.796896] )\n",
      "BVHNode 27 [Interior]: split_axis = 2 child_0 = 28 child_1 = 29 bounds = (min: [-0.046075, -1.000000, 6.053921] , max: [0.703337, -1.000000, 6.796896] )\n",
      "BVHNode 28 [Leaf]: first_prim_offset = 16 n_primitives = 1 bounds = (min: [-0.046075, -1.000000, 6.226993] , max: [0.703337, -1.000000, 6.796896] )\n",
      "BVHNode 29 [Leaf]: first_prim_offset = 17 n_primitives = 1 bounds = (min: [-0.046075, -1.000000, 6.053921] , max: [0.703337, -1.000000, 6.623823] )\n",
      "BVHNode 30 [Interior]: split_axis = 1 child_0 = 31 child_1 = 42 bounds = (min: [-0.720444, -1.000000, 6.053921] , max: [0.703337, 0.980000, 7.473479] )\n",
      "BVHNode 31 [Interior]: split_axis = 2 child_0 = 32 child_1 = 35 bounds = (min: [-0.720444, -1.000000, 6.053921] , max: [0.703337, 0.200000, 7.473479] )\n",
      "BVHNode 32 [Interior]: split_axis = 2 child_0 = 33 child_1 = 34 bounds = (min: [-0.046075, -1.000000, 6.053921] , max: [0.703337, -0.400000, 6.796896] )\n",
      "BVHNode 33 [Leaf]: first_prim_offset = 18 n_primitives = 2 bounds = (min: [-0.046075, -1.000000, 6.053921] , max: [0.533009, -0.400000, 6.226993] )\n",
      "BVHNode 34 [Leaf]: first_prim_offset = 20 n_primitives = 2 bounds = (min: [0.124253, -1.000000, 6.623823] , max: [0.703337, -0.400000, 6.796896] )\n",
      "BVHNode 35 [Interior]: split_axis = 1 child_0 = 36 child_1 = 37 bounds = (min: [-0.720444, -1.000000, 6.709351] , max: [0.049566, 0.200000, 7.473479] )\n",
      "BVHNode 36 [Leaf]: first_prim_offset = 22 n_primitives = 2 bounds = (min: [-0.720444, -1.000000, 7.273882] , max: [-0.146892, 0.200000, 7.473479] )\n",
      "BVHNode 37 [Interior]: split_axis = 1 child_0 = 38 child_1 = 39 bounds = (min: [-0.720444, -1.000000, 6.709351] , max: [0.049566, 0.200000, 7.473479] )\n",
      "BVHNode 38 [Leaf]: first_prim_offset = 24 n_primitives = 1 bounds = (min: [-0.523986, -1.000000, 6.709351] , max: [0.049566, 0.200000, 6.908948] )\n",
      "BVHNode 39 [Interior]: split_axis = 1 child_0 = 40 child_1 = 41 bounds = (min: [-0.720444, -1.000000, 6.709351] , max: [0.049566, 0.200000, 7.473479] )\n",
      "BVHNode 40 [Leaf]: first_prim_offset = 25 n_primitives = 1 bounds = (min: [-0.523986, -1.000000, 6.709351] , max: [0.049566, 0.200000, 6.908948] )\n",
      "BVHNode 41 [Leaf]: first_prim_offset = 26 n_primitives = 1 bounds = (min: [-0.720444, 0.200000, 6.709351] , max: [-0.146892, 0.200000, 7.473479] )\n",
      "BVHNode 42 [Interior]: split_axis = 1 child_0 = 43 child_1 = 50 bounds = (min: [-0.720444, -1.000000, 6.640000] , max: [0.230000, 0.980000, 7.473479] )\n",
      "BVHNode 43 [Interior]: split_axis = 1 child_0 = 44 child_1 = 47 bounds = (min: [-0.720444, -1.000000, 6.709351] , max: [0.049566, 0.200000, 7.473479] )\n",
      "BVHNode 44 [Interior]: split_axis = 1 child_0 = 45 child_1 = 46 bounds = (min: [-0.720444, -1.000000, 6.709351] , max: [0.049566, 0.200000, 7.473479] )\n",
      "BVHNode 45 [Leaf]: first_prim_offset = 27 n_primitives = 1 bounds = (min: [-0.523986, 0.200000, 6.709351] , max: [0.049566, 0.200000, 7.473479] )\n",
      "BVHNode 46 [Leaf]: first_prim_offset = 28 n_primitives = 1 bounds = (min: [-0.720444, -1.000000, 6.908948] , max: [0.049566, -1.000000, 7.473479] )\n",
      "BVHNode 47 [Interior]: split_axis = 1 child_0 = 48 child_1 = 49 bounds = (min: [-0.720444, -1.000000, 6.709351] , max: [0.049566, 0.200000, 7.273882] )\n",
      "BVHNode 48 [Leaf]: first_prim_offset = 29 n_primitives = 1 bounds = (min: [-0.720444, -1.000000, 6.709351] , max: [0.049566, -1.000000, 7.273882] )\n",
      "BVHNode 49 [Leaf]: first_prim_offset = 30 n_primitives = 1 bounds = (min: [-0.720444, -1.000000, 6.709351] , max: [-0.523986, 0.200000, 7.273882] )\n",
      "BVHNode 50 [Interior]: split_axis = 1 child_0 = 51 child_1 = 54 bounds = (min: [-0.720444, -1.000000, 6.640000] , max: [0.230000, 0.980000, 7.473479] )\n",
      "BVHNode 51 [Interior]: split_axis = 0 child_0 = 52 child_1 = 53 bounds = (min: [-0.720444, -1.000000, 6.709351] , max: [0.049566, 0.200000, 7.473479] )\n",
      "BVHNode 52 [Leaf]: first_prim_offset = 31 n_primitives = 1 bounds = (min: [-0.720444, -1.000000, 6.709351] , max: [-0.523986, 0.200000, 7.273882] )\n",
      "BVHNode 53 [Leaf]: first_prim_offset = 32 n_primitives = 1 bounds = (min: [-0.146892, -1.000000, 6.908948] , max: [0.049566, 0.200000, 7.473479] )\n",
      "BVHNode 54 [Interior]: split_axis = 1 child_0 = 55 child_1 = 56 bounds = (min: [-0.240000, -1.000000, 6.640000] , max: [0.230000, 0.980000, 7.473479] )\n",
      "BVHNode 55 [Leaf]: first_prim_offset = 33 n_primitives = 1 bounds = (min: [-0.146892, -1.000000, 6.908948] , max: [0.049566, 0.200000, 7.473479] )\n",
      "BVHNode 56 [Leaf]: first_prim_offset = 34 n_primitives = 2 bounds = (min: [-0.240000, 0.980000, 6.640000] , max: [0.230000, 0.980000, 7.020000] )\n"
     ]
    }
   ],
   "source": [
    "from tests.test_bvh import print_bvh\n",
    "\n",
    "print_bvh(nodes, total_nodes[None])"
   ],
   "metadata": {
    "collapsed": false,
    "ExecuteTime": {
     "end_time": "2025-02-22T02:40:25.027760Z",
     "start_time": "2025-02-22T02:40:24.996599Z"
    }
   }
  },
  {
   "cell_type": "code",
   "execution_count": 24,
   "outputs": [
    {
     "name": "stdout",
     "output_type": "stream",
     "text": [
      "BVH test error count = 0\n"
     ]
    }
   ],
   "source": [
    "from tests.test_bvh import test_bvh\n",
    "max_nodes = n_primitives\n",
    "debug_stack = ti.field(dtype=ti.i32, shape=(max_nodes,))\n",
    "debug_ptr = ti.field(dtype=ti.i32, shape=(1,))\n",
    "error_count = ti.field(dtype=ti.i32, shape=(1,))\n",
    "\n",
    "test_bvh(nodes, debug_stack, debug_ptr, error_count)"
   ],
   "metadata": {
    "collapsed": false,
    "ExecuteTime": {
     "end_time": "2025-02-22T02:40:25.095483Z",
     "start_time": "2025-02-22T02:40:25.022623Z"
    }
   }
  },
  {
   "cell_type": "code",
   "execution_count": 25,
   "outputs": [
    {
     "name": "stdout",
     "output_type": "stream",
     "text": [
      "Total flattened nodes: 57\n"
     ]
    }
   ],
   "source": [
    "from accelerators.bvh import LinearBVHNode\n",
    "from accelerators.bvh import flatten_bvh\n",
    "\n",
    "# create a linear representation of the bvh tree (empty)\n",
    "\n",
    "LBVS = ti.root.dense(ti.i, total_nodes[None])\n",
    "linear_bvh = LinearBVHNode.field()\n",
    "LBVS.place(linear_bvh)\n",
    "\n",
    "stack_size = 2 * n_primitives - 1  # Maximum possible stack size\n",
    "stack3 = ti.Vector.field(3, dtype=ti.i32, shape=stack_size)\n",
    "stack_top_2 = ti.field(dtype=ti.i32, shape=())\n",
    "\n",
    "start_t = time.time()\n",
    "total_nodes = flatten_bvh(nodes, linear_bvh, 0, stack3, stack_top_2)\n",
    "end_t = time.time()\n",
    "print(f\"Total flattened nodes: {total_nodes}\")"
   ],
   "metadata": {
    "collapsed": false,
    "ExecuteTime": {
     "end_time": "2025-02-22T02:40:25.209366Z",
     "start_time": "2025-02-22T02:40:25.187943Z"
    }
   }
  },
  {
   "cell_type": "code",
   "execution_count": 26,
   "outputs": [
    {
     "data": {
      "text/plain": "30"
     },
     "execution_count": 26,
     "metadata": {},
     "output_type": "execute_result"
    }
   ],
   "source": [
    "linear_bvh[0].second_child_offset"
   ],
   "metadata": {
    "collapsed": false,
    "ExecuteTime": {
     "end_time": "2025-02-22T02:40:25.209481Z",
     "start_time": "2025-02-22T02:40:25.188147Z"
    }
   }
  },
  {
   "cell_type": "code",
   "execution_count": 27,
   "outputs": [
    {
     "name": "stdout",
     "output_type": "stream",
     "text": [
      "Elapsed (with compilation) = 0.05796027183532715\n"
     ]
    }
   ],
   "source": [
    "print(\"Elapsed (with compilation) = %s\" % (end_t - start_t))"
   ],
   "metadata": {
    "collapsed": false,
    "ExecuteTime": {
     "end_time": "2025-02-22T02:40:25.209559Z",
     "start_time": "2025-02-22T02:40:25.188199Z"
    }
   }
  },
  {
   "cell_type": "code",
   "execution_count": 28,
   "outputs": [
    {
     "name": "stdout",
     "output_type": "stream",
     "text": [
      "LinearBVHNode 0 [Interior]: axis = 1 second_child_offset = 30 bounds = (min: [-1.000000, -1.000000, 5.800000] , max: [1.000000, 1.000000, 7.800000] )\n",
      "LinearBVHNode 1 [Interior]: axis = 1 second_child_offset = 13 bounds = (min: [-1.000000, -1.000000, 5.800000] , max: [1.000000, 1.000000, 7.800000] )\n",
      "LinearBVHNode 2 [Interior]: axis = 1 second_child_offset = 6 bounds = (min: [-1.000000, -1.000000, 5.800000] , max: [1.000000, 1.000000, 7.800000] )\n",
      "LinearBVHNode 3 [Interior]: axis = 1 second_child_offset = 5 bounds = (min: [-1.000000, -1.000000, 5.800000] , max: [1.000000, 1.000000, 7.800000] )\n",
      "LinearBVHNode 4 [Leaf]: primitives_offset = 0 n_primitives = 2 bounds = (min: [-1.000000, -1.000000, 5.800000] , max: [1.000000, -1.000000, 7.800000] )\n",
      "LinearBVHNode 5 [Leaf]: primitives_offset = 2 n_primitives = 2 bounds = (min: [-1.000000, 1.000000, 5.800000] , max: [1.000000, 1.000000, 7.800000] )\n",
      "LinearBVHNode 6 [Interior]: axis = 0 second_child_offset = 8 bounds = (min: [-1.000000, -1.000000, 5.800000] , max: [1.000000, 1.000000, 7.800000] )\n",
      "LinearBVHNode 7 [Leaf]: primitives_offset = 4 n_primitives = 2 bounds = (min: [-1.000000, -1.000000, 7.800000] , max: [1.000000, 1.000000, 7.800000] )\n",
      "LinearBVHNode 8 [Interior]: axis = 0 second_child_offset = 10 bounds = (min: [-1.000000, -1.000000, 5.800000] , max: [1.000000, 1.000000, 7.800000] )\n",
      "LinearBVHNode 9 [Leaf]: primitives_offset = 6 n_primitives = 1 bounds = (min: [1.000000, -1.000000, 5.800000] , max: [1.000000, 1.000000, 7.800000] )\n",
      "LinearBVHNode 10 [Interior]: axis = 0 second_child_offset = 12 bounds = (min: [-1.000000, -1.000000, 5.800000] , max: [1.000000, 1.000000, 7.800000] )\n",
      "LinearBVHNode 11 [Leaf]: primitives_offset = 7 n_primitives = 1 bounds = (min: [1.000000, -1.000000, 5.800000] , max: [1.000000, 1.000000, 7.800000] )\n",
      "LinearBVHNode 12 [Leaf]: primitives_offset = 8 n_primitives = 1 bounds = (min: [-1.000000, -1.000000, 5.800000] , max: [-1.000000, 1.000000, 7.800000] )\n",
      "LinearBVHNode 13 [Interior]: axis = 0 second_child_offset = 21 bounds = (min: [-1.000000, -1.000000, 5.800000] , max: [0.703337, 1.000000, 7.800000] )\n",
      "LinearBVHNode 14 [Interior]: axis = 0 second_child_offset = 18 bounds = (min: [-1.000000, -1.000000, 5.800000] , max: [0.703337, 1.000000, 7.800000] )\n",
      "LinearBVHNode 15 [Interior]: axis = 0 second_child_offset = 17 bounds = (min: [-1.000000, -1.000000, 5.800000] , max: [0.124253, 1.000000, 7.800000] )\n",
      "LinearBVHNode 16 [Leaf]: primitives_offset = 9 n_primitives = 1 bounds = (min: [-1.000000, -1.000000, 5.800000] , max: [-1.000000, 1.000000, 7.800000] )\n",
      "LinearBVHNode 17 [Leaf]: primitives_offset = 10 n_primitives = 1 bounds = (min: [-0.046075, -1.000000, 6.226993] , max: [0.124253, -0.400000, 6.796896] )\n",
      "LinearBVHNode 18 [Interior]: axis = 0 second_child_offset = 20 bounds = (min: [-0.046075, -1.000000, 6.053921] , max: [0.703337, -0.400000, 6.796896] )\n",
      "LinearBVHNode 19 [Leaf]: primitives_offset = 11 n_primitives = 1 bounds = (min: [-0.046075, -1.000000, 6.226993] , max: [0.124253, -0.400000, 6.796896] )\n",
      "LinearBVHNode 20 [Leaf]: primitives_offset = 12 n_primitives = 1 bounds = (min: [0.533009, -1.000000, 6.053921] , max: [0.703337, -0.400000, 6.623823] )\n",
      "LinearBVHNode 21 [Interior]: axis = 1 second_child_offset = 25 bounds = (min: [-0.046075, -1.000000, 6.053921] , max: [0.703337, -0.400000, 6.796896] )\n",
      "LinearBVHNode 22 [Interior]: axis = 0 second_child_offset = 24 bounds = (min: [-0.046075, -1.000000, 6.053921] , max: [0.703337, -0.400000, 6.796896] )\n",
      "LinearBVHNode 23 [Leaf]: primitives_offset = 13 n_primitives = 1 bounds = (min: [0.533009, -1.000000, 6.053921] , max: [0.703337, -0.400000, 6.623823] )\n",
      "LinearBVHNode 24 [Leaf]: primitives_offset = 14 n_primitives = 1 bounds = (min: [-0.046075, -0.400000, 6.053921] , max: [0.533009, -0.400000, 6.796896] )\n",
      "LinearBVHNode 25 [Interior]: axis = 1 second_child_offset = 27 bounds = (min: [-0.046075, -1.000000, 6.053921] , max: [0.703337, -0.400000, 6.796896] )\n",
      "LinearBVHNode 26 [Leaf]: primitives_offset = 15 n_primitives = 1 bounds = (min: [0.124253, -0.400000, 6.053921] , max: [0.703337, -0.400000, 6.796896] )\n",
      "LinearBVHNode 27 [Interior]: axis = 2 second_child_offset = 29 bounds = (min: [-0.046075, -1.000000, 6.053921] , max: [0.703337, -1.000000, 6.796896] )\n",
      "LinearBVHNode 28 [Leaf]: primitives_offset = 16 n_primitives = 1 bounds = (min: [-0.046075, -1.000000, 6.226993] , max: [0.703337, -1.000000, 6.796896] )\n",
      "LinearBVHNode 29 [Leaf]: primitives_offset = 17 n_primitives = 1 bounds = (min: [-0.046075, -1.000000, 6.053921] , max: [0.703337, -1.000000, 6.623823] )\n",
      "LinearBVHNode 30 [Interior]: axis = 1 second_child_offset = 42 bounds = (min: [-0.720444, -1.000000, 6.053921] , max: [0.703337, 0.980000, 7.473479] )\n",
      "LinearBVHNode 31 [Interior]: axis = 2 second_child_offset = 35 bounds = (min: [-0.720444, -1.000000, 6.053921] , max: [0.703337, 0.200000, 7.473479] )\n",
      "LinearBVHNode 32 [Interior]: axis = 2 second_child_offset = 34 bounds = (min: [-0.046075, -1.000000, 6.053921] , max: [0.703337, -0.400000, 6.796896] )\n",
      "LinearBVHNode 33 [Leaf]: primitives_offset = 18 n_primitives = 2 bounds = (min: [-0.046075, -1.000000, 6.053921] , max: [0.533009, -0.400000, 6.226993] )\n",
      "LinearBVHNode 34 [Leaf]: primitives_offset = 20 n_primitives = 2 bounds = (min: [0.124253, -1.000000, 6.623823] , max: [0.703337, -0.400000, 6.796896] )\n",
      "LinearBVHNode 35 [Interior]: axis = 1 second_child_offset = 37 bounds = (min: [-0.720444, -1.000000, 6.709351] , max: [0.049566, 0.200000, 7.473479] )\n",
      "LinearBVHNode 36 [Leaf]: primitives_offset = 22 n_primitives = 2 bounds = (min: [-0.720444, -1.000000, 7.273882] , max: [-0.146892, 0.200000, 7.473479] )\n",
      "LinearBVHNode 37 [Interior]: axis = 1 second_child_offset = 39 bounds = (min: [-0.720444, -1.000000, 6.709351] , max: [0.049566, 0.200000, 7.473479] )\n",
      "LinearBVHNode 38 [Leaf]: primitives_offset = 24 n_primitives = 1 bounds = (min: [-0.523986, -1.000000, 6.709351] , max: [0.049566, 0.200000, 6.908948] )\n",
      "LinearBVHNode 39 [Interior]: axis = 1 second_child_offset = 41 bounds = (min: [-0.720444, -1.000000, 6.709351] , max: [0.049566, 0.200000, 7.473479] )\n",
      "LinearBVHNode 40 [Leaf]: primitives_offset = 25 n_primitives = 1 bounds = (min: [-0.523986, -1.000000, 6.709351] , max: [0.049566, 0.200000, 6.908948] )\n",
      "LinearBVHNode 41 [Leaf]: primitives_offset = 26 n_primitives = 1 bounds = (min: [-0.720444, 0.200000, 6.709351] , max: [-0.146892, 0.200000, 7.473479] )\n",
      "LinearBVHNode 42 [Interior]: axis = 1 second_child_offset = 50 bounds = (min: [-0.720444, -1.000000, 6.640000] , max: [0.230000, 0.980000, 7.473479] )\n",
      "LinearBVHNode 43 [Interior]: axis = 1 second_child_offset = 47 bounds = (min: [-0.720444, -1.000000, 6.709351] , max: [0.049566, 0.200000, 7.473479] )\n",
      "LinearBVHNode 44 [Interior]: axis = 1 second_child_offset = 46 bounds = (min: [-0.720444, -1.000000, 6.709351] , max: [0.049566, 0.200000, 7.473479] )\n",
      "LinearBVHNode 45 [Leaf]: primitives_offset = 27 n_primitives = 1 bounds = (min: [-0.523986, 0.200000, 6.709351] , max: [0.049566, 0.200000, 7.473479] )\n",
      "LinearBVHNode 46 [Leaf]: primitives_offset = 28 n_primitives = 1 bounds = (min: [-0.720444, -1.000000, 6.908948] , max: [0.049566, -1.000000, 7.473479] )\n",
      "LinearBVHNode 47 [Interior]: axis = 1 second_child_offset = 49 bounds = (min: [-0.720444, -1.000000, 6.709351] , max: [0.049566, 0.200000, 7.273882] )\n",
      "LinearBVHNode 48 [Leaf]: primitives_offset = 29 n_primitives = 1 bounds = (min: [-0.720444, -1.000000, 6.709351] , max: [0.049566, -1.000000, 7.273882] )\n",
      "LinearBVHNode 49 [Leaf]: primitives_offset = 30 n_primitives = 1 bounds = (min: [-0.720444, -1.000000, 6.709351] , max: [-0.523986, 0.200000, 7.273882] )\n",
      "LinearBVHNode 50 [Interior]: axis = 1 second_child_offset = 54 bounds = (min: [-0.720444, -1.000000, 6.640000] , max: [0.230000, 0.980000, 7.473479] )\n",
      "LinearBVHNode 51 [Interior]: axis = 0 second_child_offset = 53 bounds = (min: [-0.720444, -1.000000, 6.709351] , max: [0.049566, 0.200000, 7.473479] )\n",
      "LinearBVHNode 52 [Leaf]: primitives_offset = 31 n_primitives = 1 bounds = (min: [-0.720444, -1.000000, 6.709351] , max: [-0.523986, 0.200000, 7.273882] )\n",
      "LinearBVHNode 53 [Leaf]: primitives_offset = 32 n_primitives = 1 bounds = (min: [-0.146892, -1.000000, 6.908948] , max: [0.049566, 0.200000, 7.473479] )\n",
      "LinearBVHNode 54 [Interior]: axis = 1 second_child_offset = 56 bounds = (min: [-0.240000, -1.000000, 6.640000] , max: [0.230000, 0.980000, 7.473479] )\n",
      "LinearBVHNode 55 [Leaf]: primitives_offset = 33 n_primitives = 1 bounds = (min: [-0.146892, -1.000000, 6.908948] , max: [0.049566, 0.200000, 7.473479] )\n",
      "LinearBVHNode 56 [Leaf]: primitives_offset = 34 n_primitives = 2 bounds = (min: [-0.240000, 0.980000, 6.640000] , max: [0.230000, 0.980000, 7.020000] )\n"
     ]
    }
   ],
   "source": [
    "from tests.test_linear_bvh import print_flattened_bvh\n",
    "\n",
    "print_flattened_bvh(linear_bvh, total_nodes)"
   ],
   "metadata": {
    "collapsed": false,
    "ExecuteTime": {
     "end_time": "2025-02-22T02:40:25.218897Z",
     "start_time": "2025-02-22T02:40:25.190089Z"
    }
   }
  },
  {
   "cell_type": "code",
   "execution_count": 29,
   "outputs": [
    {
     "name": "stdout",
     "output_type": "stream",
     "text": [
      "Flattened BVH test error count = 0\n"
     ]
    }
   ],
   "source": [
    "from tests.test_linear_bvh import test_flattened_bvh\n",
    "\n",
    "max_nodes = n_primitives\n",
    "debug_stack = ti.field(dtype=ti.i32, shape=(max_nodes,))\n",
    "debug_ptr = ti.field(dtype=ti.i32, shape=(1,))\n",
    "error_count = ti.field(dtype=ti.i32, shape=(1,))\n",
    "\n",
    "test_flattened_bvh(linear_bvh, debug_stack, debug_ptr, error_count)"
   ],
   "metadata": {
    "collapsed": false,
    "ExecuteTime": {
     "end_time": "2025-02-22T02:40:25.273224Z",
     "start_time": "2025-02-22T02:40:25.211793Z"
    }
   }
  },
  {
   "cell_type": "code",
   "execution_count": 30,
   "outputs": [
    {
     "data": {
      "text/plain": "{'fov': [19.5]}"
     },
     "execution_count": 30,
     "metadata": {},
     "output_type": "execute_result"
    }
   ],
   "source": [
    "# Parse Camera Data\n",
    "\n",
    "camera_data = scene_dict[\"Camera\"][0][\"properties\"]\n",
    "camera_data"
   ],
   "metadata": {
    "collapsed": false,
    "ExecuteTime": {
     "end_time": "2025-02-22T02:40:25.273418Z",
     "start_time": "2025-02-22T02:40:25.238259Z"
    }
   }
  },
  {
   "cell_type": "code",
   "execution_count": 31,
   "outputs": [
    {
     "data": {
      "text/plain": "([-1.         -1.00000012  5.80000019], [1.         1.         7.80000019])"
     },
     "execution_count": 31,
     "metadata": {},
     "output_type": "execute_result"
    }
   ],
   "source": [
    "scene_min[None], scene_max[None]"
   ],
   "metadata": {
    "collapsed": false,
    "ExecuteTime": {
     "end_time": "2025-02-22T02:40:25.273752Z",
     "start_time": "2025-02-22T02:40:25.262949Z"
    }
   }
  },
  {
   "cell_type": "code",
   "execution_count": 32,
   "outputs": [],
   "source": [
    "from taichi.lang.matrix_ops import norm\n",
    "import taichi as ti\n",
    "from taichi.math import (\n",
    "    vec3, length, normalize, cross, radians, sin, tan, dot\n",
    ")\n",
    "from base.frame import create_frame\n",
    "from base.camera import PerspectiveCamera\n",
    "\n",
    "@ti.func\n",
    "def frame_look_at(eye, center, up):\n",
    "    \"\"\"\n",
    "    PBRT v4-like LookAt:\n",
    "      - +Z = forward = (center - eye)\n",
    "      - +X = right = cross(up, forward)\n",
    "      - +Y = up = cross(forward, right)\n",
    "    \"\"\"\n",
    "    forward_raw = center - eye\n",
    "    if length(forward_raw) < 1e-8:\n",
    "        forward_raw = vec3(0, 0, 1)\n",
    "    forward = normalize(forward_raw)\n",
    "\n",
    "    up_len = length(up)\n",
    "    if up_len < 1e-8:\n",
    "        up = vec3(0, 1, 0)\n",
    "        up_len = 1.0\n",
    "    up_n = up / up_len\n",
    "\n",
    "    # If up is nearly parallel to forward, choose a fallback.\n",
    "    dot_uf = ti.abs(dot(up_n, forward))\n",
    "    if dot_uf > 0.9999:\n",
    "        fallback = vec3(0, 1, 0)\n",
    "        if ti.abs(dot(fallback, forward)) > 0.9999:\n",
    "            fallback = vec3(1, 0, 0)\n",
    "        up_n = normalize(fallback)\n",
    "\n",
    "    # PBRT style: z = forward, x = cross(up, z), y = cross(z, x)\n",
    "    z = forward\n",
    "    x_raw = vec3(1, 0, 0) if ti.abs(length(cross(up_n, z))) < 1e-8 else normalize(cross(up_n, z))\n",
    "    y = cross(z, x_raw)\n",
    "    return create_frame(x_raw, y, z)\n",
    "\n",
    "@ti.kernel\n",
    "def auto_fit_camera(scene_min: vec3, scene_max: vec3, fov_degrees: ti.f32, film_width: ti.i32, film_height: ti.i32, margin:ti.f32) -> PerspectiveCamera:\n",
    "    \"\"\"\n",
    "    Compute an auto-fit camera based on the scene bounding box.\n",
    "\n",
    "    Parameters:\n",
    "      scene_min, scene_max: numpy arrays (or taichi vectors) representing the bounding box.\n",
    "      fov_degrees: the vertical field-of-view in degrees.\n",
    "      film_width, film_height: resolution of the film.\n",
    "      margin: a multiplier to leave extra room around the scene.\n",
    "\n",
    "    Returns:\n",
    "      A PerspectiveCamera with the computed position and framing.\n",
    "    \"\"\"\n",
    "    # Compute center of bounding box.\n",
    "    center = 0.5 * (scene_min + scene_max)\n",
    "    diag = scene_max - scene_min\n",
    "    # Use the norm of the diagonal to compute a bounding sphere radius.\n",
    "    r = 0.5 * norm(diag)\n",
    "    if r < 1e-8:\n",
    "        r = 1.0\n",
    "\n",
    "    # Compute half fov in radians.\n",
    "    half_fov = radians(0.5 * fov_degrees)\n",
    "    # Compute distance required so that the sphere fits in the view.\n",
    "    # (r / sin(half_fov)) gives the distance required for a sphere to fill the screen.\n",
    "    distance = margin * (r / sin(half_fov))\n",
    "\n",
    "    # Alternative for perfect fit\n",
    "    # local_rad = 0.5 * ti.max(diag.x, ti.max(diag.y, diag.z))\n",
    "    # distance = local_rad / tan(0.5 * radians(fov_degrees)) + local_rad\n",
    "\n",
    "    # Place camera along the negative z-axis relative to center.\n",
    "    eye = center - distance * vec3([0, 0, 1])\n",
    "\n",
    "    # In this example we assume world up is (0,1,0).\n",
    "    world_up = vec3(0, 1, 0)\n",
    "    # Depending on your coordinate conventions you might need to flip world_up.\n",
    "    cam_frame = frame_look_at(vec3(*eye), vec3(*center), world_up)\n",
    "\n",
    "    # Film plane size in camera space at z=1.\n",
    "    aspect = film_width / film_height\n",
    "    screen_height = 2.0 * tan(half_fov)\n",
    "    screen_width  = aspect * screen_height\n",
    "\n",
    "    # Differentials in camera space.\n",
    "    dx_c = vec3(screen_width / film_width, 0.0, 0.0)\n",
    "    dy_c = vec3(0.0, screen_height / film_height, 0.0)\n",
    "\n",
    "    cam = PerspectiveCamera(\n",
    "        width         = film_width,\n",
    "        height        = film_height,\n",
    "        position      = vec3(*eye),\n",
    "        frame         = cam_frame,\n",
    "        fov           = fov_degrees,\n",
    "        aspect_ratio  = aspect,\n",
    "        lens_radius   = 0.0,\n",
    "        focal_distance= 1e3,\n",
    "        screen_dx     = screen_width,\n",
    "        screen_dy     = screen_height,\n",
    "        dx_camera     = dx_c,\n",
    "        dy_camera     = dy_c\n",
    "    )\n",
    "    return cam\n",
    "\n",
    "# Example usage:\n",
    "# scene_min[None] = [...]\n",
    "# scene_max[None] = [...]\n",
    "fov = float(camera_data.get('fov', 45.0)[0])\n",
    "camera = auto_fit_camera(scene_min[None], scene_max[None], fov, 100, 100, 0.7)\n"
   ],
   "metadata": {
    "collapsed": false,
    "ExecuteTime": {
     "end_time": "2025-02-22T02:40:25.328411Z",
     "start_time": "2025-02-22T02:40:25.263069Z"
    }
   }
  },
  {
   "cell_type": "code",
   "execution_count": 33,
   "outputs": [],
   "source": [
    "# import taichi as ti\n",
    "# from taichi.math import vec3, normalize, cross, radians, tan\n",
    "# from base.camera import PerspectiveCamera\n",
    "# from base.frame import Frame  # your Frame class\n",
    "#\n",
    "# width = 400\n",
    "# height = 400\n",
    "#\n",
    "# # Global camera field\n",
    "# camera = PerspectiveCamera.field(shape=())\n",
    "#\n",
    "# @ti.kernel\n",
    "# def initialize_camera():\n",
    "#     obj_min = scene_min[None]\n",
    "#     obj_max = scene_max[None]\n",
    "#     center  = 0.5 * (obj_min + obj_max)\n",
    "#     extent  = obj_max - obj_min\n",
    "#     local_rad = 0.5 * ti.max(extent.x, ti.max(extent.y, extent.z))\n",
    "#\n",
    "#     print(obj_min, obj_max, center)\n",
    "#\n",
    "#     fov_degrees = 60.0 #float(camera_data.get('fov', 45.0))\n",
    "#     fov_rad = radians(fov_degrees)\n",
    "#\n",
    "#     d = local_rad / tan(0.5 * fov_rad) + local_rad\n",
    "#     pos = center - vec3(0.0, 1.0, d)\n",
    "#\n",
    "#     forward = normalize(center - pos)\n",
    "#\n",
    "#     camera[None].width = width\n",
    "#     camera[None].height = height\n",
    "#     camera[None].position = pos - vec3([0, 0, 2.5])\n",
    "#\n",
    "#     camera[None].frame = frame_from_z(forward)\n",
    "#\n",
    "#     camera[None].fov = fov_degrees\n",
    "#     aspect_ratio = width / float(height)\n",
    "#     camera[None].aspect_ratio = aspect_ratio\n",
    "#     camera[None].lens_radius = float(camera_data.get('lensradius', 0.0))\n",
    "#     camera[None].focal_distance = d\n",
    "#\n",
    "#     screen_dy = 2.0 * tan(0.5 * fov_rad)\n",
    "#     screen_dx = screen_dy * aspect_ratio\n",
    "#     camera[None].screen_dx = screen_dx\n",
    "#     camera[None].screen_dy = screen_dy\n",
    "#     camera[None].dx_camera = vec3([screen_dx / width, 0.0, 0.0])\n",
    "#     camera[None].dy_camera = vec3([0.0, screen_dy / height, 0.0])\n",
    "#\n",
    "#\n",
    "# initialize_camera()\n"
   ],
   "metadata": {
    "collapsed": false,
    "ExecuteTime": {
     "end_time": "2025-02-22T02:40:25.330421Z",
     "start_time": "2025-02-22T02:40:25.328999Z"
    }
   }
  },
  {
   "cell_type": "code",
   "execution_count": 34,
   "outputs": [
    {
     "data": {
      "text/plain": "{'width': 100, 'height': 100, 'position': [0.0, -5.960464477539063e-08, -0.35936784744262695], 'frame': {'x': [1.0, 0.0, -0.0], 'y': [-0.0, 1.0, 0.0], 'z': [0.0, 0.0, 1.0]}, 'fov': 19.5, 'aspect_ratio': 1.0, 'lens_radius': 0.0, 'focal_distance': 1000.0, 'screen_dx': 0.3436628580093384, 'screen_dy': 0.3436628580093384, 'dx_camera': [0.003436628496274352, 0.0, 0.0], 'dy_camera': [0.0, 0.003436628496274352, 0.0]}"
     },
     "execution_count": 34,
     "metadata": {},
     "output_type": "execute_result"
    }
   ],
   "source": [
    "camera"
   ],
   "metadata": {
    "collapsed": false,
    "ExecuteTime": {
     "end_time": "2025-02-22T02:40:25.333333Z",
     "start_time": "2025-02-22T02:40:25.330989Z"
    }
   }
  },
  {
   "cell_type": "code",
   "execution_count": 35,
   "outputs": [
    {
     "data": {
      "text/plain": "([-1.         -1.00000012  5.80000019], [1.         1.         7.80000019])"
     },
     "execution_count": 35,
     "metadata": {},
     "output_type": "execute_result"
    }
   ],
   "source": [
    "scene_min[None], scene_max[None]"
   ],
   "metadata": {
    "collapsed": false,
    "ExecuteTime": {
     "end_time": "2025-02-22T02:40:25.336178Z",
     "start_time": "2025-02-22T02:40:25.333195Z"
    }
   }
  },
  {
   "cell_type": "code",
   "execution_count": 36,
   "outputs": [
    {
     "data": {
      "text/plain": "{'x': [1.0, 0.0, -0.0], 'y': [-0.0, 1.0, 0.0], 'z': [0.0, 0.0, 1.0]}"
     },
     "execution_count": 36,
     "metadata": {},
     "output_type": "execute_result"
    }
   ],
   "source": [
    "camera.frame"
   ],
   "metadata": {
    "collapsed": false,
    "ExecuteTime": {
     "end_time": "2025-02-22T02:40:25.337467Z",
     "start_time": "2025-02-22T02:40:25.335591Z"
    }
   }
  },
  {
   "cell_type": "code",
   "execution_count": 37,
   "outputs": [
    {
     "name": "stdout",
     "output_type": "stream",
     "text": [
      "[0.000000, -0.000000, -0.359368] [0.000000, 0.000000, 1.000000] [0.000000, -0.000000, -0.359368] [0.003437, 0.000000, 0.999994] [0.000000, -0.000000, -0.359368] [0.000000, 0.003437, 0.999994]\n"
     ]
    }
   ],
   "source": [
    "@ti.kernel\n",
    "def test_camera():\n",
    "    # Generate a ray\n",
    "    s, t = 0.5, 0.5  # Center of the screen\n",
    "    ray_origin, ray_dir, rx_origin, rx_dir, ry_origin, ry_dir = camera.generate_ray_differential(s, t)\n",
    "    print(ray_origin, ray_dir, rx_origin, rx_dir, ry_origin, ry_dir)\n",
    "\n",
    "test_camera()"
   ],
   "metadata": {
    "collapsed": false,
    "ExecuteTime": {
     "end_time": "2025-02-22T02:40:25.418990Z",
     "start_time": "2025-02-22T02:40:25.337973Z"
    }
   }
  },
  {
   "cell_type": "code",
   "execution_count": 38,
   "outputs": [],
   "source": [
    "from base.scene import Scene\n",
    "\n",
    "pt = 0\n",
    "mis = 1\n",
    "\n",
    "# Instantiate a Scene object with the Camera object\n",
    "scene = Scene(integrator=pt, spp=64, max_depth=6, sample_lights=1, sample_bsdf=1)"
   ],
   "metadata": {
    "collapsed": false,
    "ExecuteTime": {
     "end_time": "2025-02-22T02:40:25.421106Z",
     "start_time": "2025-02-22T02:40:25.419212Z"
    }
   }
  },
  {
   "cell_type": "code",
   "execution_count": 39,
   "outputs": [
    {
     "name": "stdout",
     "output_type": "stream",
     "text": [
      "Elapsed (with compilation) = 16.46369194984436\n"
     ]
    }
   ],
   "source": [
    "from base.render import render\n",
    "\n",
    "# Initialize the image field outside the kernel using the actual values\n",
    "image = ti.Vector.field(3, dtype=ti.f32, shape=(camera.width, camera.height))\n",
    "\n",
    "\n",
    "start_t = time.time()\n",
    "\n",
    "# Call the render_scene kernel\n",
    "render(scene, image, lights, camera, ordered_prims, linear_bvh)\n",
    "\n",
    "end_t = time.time()\n",
    "\n",
    "print(\"Elapsed (with compilation) = %s\" % (end_t - start_t))"
   ],
   "metadata": {
    "collapsed": false,
    "ExecuteTime": {
     "end_time": "2025-02-22T02:40:41.901951Z",
     "start_time": "2025-02-22T02:40:25.422005Z"
    }
   }
  },
  {
   "cell_type": "code",
   "execution_count": 40,
   "outputs": [
    {
     "name": "stderr",
     "output_type": "stream",
     "text": [
      "Clipping input data to the valid range for imshow with RGB data ([0..1] for floats or [0..255] for integers).\n"
     ]
    },
    {
     "data": {
      "text/plain": "<Figure size 640x480 with 1 Axes>",
      "image/png": "[encoded data removed]"
     },
     "metadata": {},
     "output_type": "display_data"
    }
   ],
   "source": [
    "image_np = image.to_numpy()\n",
    "# if np.isnan(image_np).any() or np.isinf(image_np).any():\n",
    "#     print(\"Warning: NaN or Inf values detected in the image\")\n",
    "# image_np = np.clip(image_np, 0, 1)  # Clip values between 0 and 1\n",
    "plt.imshow(image_np)\n",
    "plt.axis('off')\n",
    "plt.show()"
   ],
   "metadata": {
    "collapsed": false,
    "ExecuteTime": {
     "end_time": "2025-02-22T02:40:41.980002Z",
     "start_time": "2025-02-22T02:40:41.903700Z"
    }
   }
  },
  {
   "cell_type": "code",
   "execution_count": 41,
   "outputs": [
    {
     "data": {
      "text/plain": "<Figure size 640x480 with 1 Axes>",
      "image/png": "[encoded data removed]"
     },
     "metadata": {},
     "output_type": "display_data"
    }
   ],
   "source": [
    "def tone_mapping(hdr_image, gamma=2.2):\n",
    "    ldr_image = hdr_image / (1.0 + hdr_image)\n",
    "    ldr_image = np.power(ldr_image, 1.0 / gamma)\n",
    "    return np.clip(ldr_image, 0, 1)\n",
    "\n",
    "ldr_image = tone_mapping(image_np)\n",
    "\n",
    "# Display the tone-mapped image\n",
    "plt.imshow(ldr_image)\n",
    "plt.axis('off')\n",
    "plt.show()"
   ],
   "metadata": {
    "collapsed": false,
    "ExecuteTime": {
     "end_time": "2025-02-22T02:40:42.053978Z",
     "start_time": "2025-02-22T02:40:41.991656Z"
    }
   }
  },
  {
   "cell_type": "code",
   "execution_count": 42,
   "outputs": [
    {
     "ename": "NameError",
     "evalue": "name 'r' is not defined",
     "output_type": "error",
     "traceback": [
      "\u001B[0;31m---------------------------------------------------------------------------\u001B[0m",
      "\u001B[0;31mNameError\u001B[0m                                 Traceback (most recent call last)",
      "Cell \u001B[0;32mIn[42], line 1\u001B[0m\n\u001B[0;32m----> 1\u001B[0m \u001B[43mr\u001B[49m\n",
      "\u001B[0;31mNameError\u001B[0m: name 'r' is not defined"
     ]
    }
   ],
   "source": [
    "r"
   ],
   "metadata": {
    "collapsed": false,
    "ExecuteTime": {
     "end_time": "2025-02-22T02:40:42.125757Z",
     "start_time": "2025-02-22T02:40:42.017328Z"
    }
   }
  },
  {
   "cell_type": "code",
   "execution_count": null,
   "outputs": [],
   "source": [],
   "metadata": {
    "collapsed": false
   }
  },
  {
   "cell_type": "code",
   "execution_count": null,
   "outputs": [],
   "source": [],
   "metadata": {
    "collapsed": false
   }
  },
  {
   "cell_type": "code",
   "execution_count": null,
   "outputs": [],
   "source": [],
   "metadata": {
    "collapsed": false
   }
  },
  {
   "cell_type": "code",
   "execution_count": null,
   "outputs": [],
   "source": [],
   "metadata": {
    "collapsed": false
   }
  },
  {
   "cell_type": "code",
   "execution_count": null,
   "outputs": [],
   "source": [],
   "metadata": {
    "collapsed": false
   }
  }
 ],
 "metadata": {
  "accelerator": "GPU",
  "colab": {
   "provenance": []
  },
  "kernelspec": {
   "display_name": "Python 3 (ipykernel)",
   "language": "python",
   "name": "python3"
  },
  "language_info": {
   "codemirror_mode": {
    "name": "ipython",
    "version": 3
   },
   "file_extension": ".py",
   "mimetype": "text/x-python",
   "name": "python",
   "nbconvert_exporter": "python",
   "pygments_lexer": "ipython3",
   "version": "3.10.0"
  }
 },
 "nbformat": 4,
 "nbformat_minor": 1
}
