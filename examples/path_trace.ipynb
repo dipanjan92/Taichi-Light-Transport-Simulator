{
 "cells": [
  {
   "cell_type": "markdown",
   "source": [
    "# Path Tracing Notebook\n",
    "Implementation of Light Transport Algorithms"
   ],
   "metadata": {
    "collapsed": false,
    "pycharm": {
     "name": "#%% md\n"
    }
   }
  },
  {
   "cell_type": "markdown",
   "source": [
    "********************************************************************************************"
   ],
   "metadata": {
    "collapsed": false,
    "pycharm": {
     "name": "#%% md\n"
    }
   }
  },
  {
   "cell_type": "code",
   "execution_count": 1,
   "outputs": [
    {
     "name": "stdout",
     "output_type": "stream",
     "text": [
      "[Taichi] version 1.6.0, llvm 15.0.7, commit f1c6fbbd, osx, python 3.11.4\n"
     ]
    },
    {
     "name": "stderr",
     "output_type": "stream",
     "text": [
      "[I 02/22/25 00:51:23.714 62282479] [shell.py:_shell_pop_print@23] Graphical python shell detected, using wrapped sys.stdout\n"
     ]
    },
    {
     "name": "stdout",
     "output_type": "stream",
     "text": [
      "[Taichi] Starting on arch=arm64\n"
     ]
    }
   ],
   "source": [
    "import taichi as ti\n",
    "ti.init(arch=ti.cpu, debug=True, random_seed=36279)"
   ],
   "metadata": {
    "collapsed": false,
    "ExecuteTime": {
     "end_time": "2025-02-22T00:51:24.448393Z",
     "start_time": "2025-02-22T00:51:23.571581Z"
    }
   }
  },
  {
   "cell_type": "code",
   "execution_count": 2,
   "outputs": [],
   "source": [
    "import time\n",
    "from pathlib import Path\n",
    "import matplotlib.pyplot as plt\n",
    "import numpy as np\n",
    "from taichi.math import vec3, cross, normalize"
   ],
   "metadata": {
    "collapsed": false,
    "ExecuteTime": {
     "end_time": "2025-02-22T00:51:24.449266Z",
     "start_time": "2025-02-22T00:51:24.030466Z"
    }
   }
  },
  {
   "cell_type": "code",
   "execution_count": 3,
   "outputs": [],
   "source": [
    "original_cornell_box = \"../objects/cornell_box/CornellBox-Original.obj\"\n",
    "empty_cornell_box = \"../objects/cornell_box/empty.obj\"\n",
    "cornell_box_sphere = \"../objects/cornell_box/CornellBox-Sphere.obj\"\n",
    "test_scene = \"../objects/untitled.obj\"\n",
    "\n",
    "\n",
    "obj_path = test_scene\n",
    "mtl_path = obj_path.replace('.obj', '.mtl')"
   ],
   "metadata": {
    "collapsed": false,
    "ExecuteTime": {
     "end_time": "2025-02-22T00:51:24.449603Z",
     "start_time": "2025-02-22T00:51:24.258664Z"
    }
   }
  },
  {
   "cell_type": "code",
   "execution_count": 4,
   "outputs": [
    {
     "name": "stderr",
     "output_type": "stream",
     "text": [
      "Unimplemented OBJ format statement 'g' on line 'g CornellBox-Empty-CO_CornellBox-Empty-CO'\n",
      "Unimplemented OBJ format statement 's' on line 's 0'\n",
      "Unimplemented OBJ format statement 'g' on line 'g CornellBox-Empty-CO_floor'\n",
      "Unimplemented OBJ format statement 'g' on line 'g CornellBox-Empty-CO_ceiling'\n",
      "Unimplemented OBJ format statement 'g' on line 'g CornellBox-Empty-CO_backWall'\n",
      "Unimplemented OBJ format statement 'g' on line 'g CornellBox-Empty-CO_rightWall'\n",
      "Unimplemented OBJ format statement 'g' on line 'g CornellBox-Empty-CO_leftWall'\n",
      "Unimplemented OBJ format statement 'g' on line 'g CornellBox-Empty-CO_light'\n",
      "/Users/dipanjan/LightTransportSimulator/lib/python3.11/site-packages/numpy/core/getlimits.py:518: UserWarning: The value of the smallest subnormal for <class 'numpy.float32'> type is zero.\n",
      "  setattr(self, word, getattr(machar, word).flat[0])\n",
      "/Users/dipanjan/LightTransportSimulator/lib/python3.11/site-packages/numpy/core/getlimits.py:89: UserWarning: The value of the smallest subnormal for <class 'numpy.float32'> type is zero.\n",
      "  return self._float_to_str(self.smallest_subnormal)\n"
     ]
    },
    {
     "name": "stdout",
     "output_type": "stream",
     "text": [
      "Material Data:\n",
      "[(0, [0.885809 , 0.698859 , 0.666422 ], [1., 1., 1.], [0., 0., 0.], [ 0.     ,  0.     ,  0.     ], 10.000005, 1. , 1., 2, 0)\n",
      " (1, [0.885809 , 0.698859 , 0.666422 ], [1., 1., 1.], [0., 0., 0.], [ 0.     ,  0.     ,  0.     ], 10.000005, 1. , 1., 2, 0)\n",
      " (0, [0.885809 , 0.698859 , 0.666422 ], [1., 1., 1.], [0., 0., 0.], [ 0.     ,  0.     ,  0.     ], 10.000005, 1. , 1., 2, 0)\n",
      " (1, [0.885809 , 0.698859 , 0.666422 ], [1., 1., 1.], [0., 0., 0.], [ 0.     ,  0.     ,  0.     ], 10.000005, 1. , 1., 2, 0)\n",
      " (0, [0.885809 , 0.698859 , 0.666422 ], [1., 1., 1.], [0., 0., 0.], [ 0.     ,  0.     ,  0.     ], 10.000005, 1. , 1., 2, 0)\n",
      " (1, [0.885809 , 0.698859 , 0.666422 ], [1., 1., 1.], [0., 0., 0.], [ 0.     ,  0.     ,  0.     ], 10.000005, 1. , 1., 2, 0)\n",
      " (0, [0.570068 , 0.0430135, 0.0443706], [1., 1., 1.], [0., 0., 0.], [ 0.     ,  0.     ,  0.     ], 10.000005, 1.5, 1., 2, 0)\n",
      " (1, [0.570068 , 0.0430135, 0.0443706], [1., 1., 1.], [0., 0., 0.], [ 0.     ,  0.     ,  0.     ], 10.000005, 1.5, 1., 2, 0)\n",
      " (0, [0.105421 , 0.37798  , 0.076425 ], [1., 1., 1.], [0., 0., 0.], [ 0.     ,  0.     ,  0.     ], 10.000005, 1.5, 1., 2, 0)\n",
      " (1, [0.105421 , 0.37798  , 0.076425 ], [1., 1., 1.], [0., 0., 0.], [ 0.     ,  0.     ,  0.     ], 10.000005, 1.5, 1., 2, 0)\n",
      " (0, [0.885809 , 0.698859 , 0.666422 ], [1., 1., 1.], [0., 0., 0.], [18.387  , 13.9873 ,  6.75357], 10.000005, 1.5, 1., 1, 1)\n",
      " (1, [0.885809 , 0.698859 , 0.666422 ], [1., 1., 1.], [0., 0., 0.], [18.387  , 13.9873 ,  6.75357], 10.000005, 1.5, 1., 1, 1)]\n",
      "\n",
      "Vertices:\n",
      "[[-1.01  0.    0.99]\n",
      " [ 1.    0.    0.99]\n",
      " [ 1.   -0.   -1.04]\n",
      " [-0.99 -0.   -1.04]\n",
      " [-1.02  1.99  0.99]\n",
      " [-1.02  1.99 -1.04]\n",
      " [ 1.    1.99 -1.04]\n",
      " [ 1.    1.99  0.99]\n",
      " [-0.99 -0.   -1.04]\n",
      " [ 1.   -0.   -1.04]\n",
      " [ 1.    1.99 -1.04]\n",
      " [-1.02  1.99 -1.04]\n",
      " [ 1.   -0.   -1.04]\n",
      " [ 1.    0.    0.99]\n",
      " [ 1.    1.99  0.99]\n",
      " [ 1.    1.99 -1.04]\n",
      " [-1.01  0.    0.99]\n",
      " [-0.99 -0.   -1.04]\n",
      " [-1.02  1.99 -1.04]\n",
      " [-1.02  1.99  0.99]\n",
      " [-0.24  1.98  0.16]\n",
      " [-0.24  1.98 -0.22]\n",
      " [ 0.23  1.98 -0.22]\n",
      " [ 0.23  1.98  0.16]]\n",
      "\n",
      "Faces Array:\n",
      "[ 3  0  1  2  3  0  2  3  3  4  5  6  3  4  6  7  3  8  9 10  3  8 10 11\n",
      "  3 12 13 14  3 12 14 15  3 16 17 18  3 16 18 19  3 20 21 22  3 20 22 23]\n",
      "[( 0, [0.885809 , 0.698859 , 0.666422 ], [1., 1., 1.], [0., 0., 0.], [ 0.     ,  0.     ,  0.     ], 10.000005, 1. , 1., 2, 0)\n",
      " ( 1, [0.885809 , 0.698859 , 0.666422 ], [1., 1., 1.], [0., 0., 0.], [ 0.     ,  0.     ,  0.     ], 10.000005, 1. , 1., 2, 0)\n",
      " ( 2, [0.885809 , 0.698859 , 0.666422 ], [1., 1., 1.], [0., 0., 0.], [ 0.     ,  0.     ,  0.     ], 10.000005, 1. , 1., 2, 0)\n",
      " ( 3, [0.885809 , 0.698859 , 0.666422 ], [1., 1., 1.], [0., 0., 0.], [ 0.     ,  0.     ,  0.     ], 10.000005, 1. , 1., 2, 0)\n",
      " ( 4, [0.885809 , 0.698859 , 0.666422 ], [1., 1., 1.], [0., 0., 0.], [ 0.     ,  0.     ,  0.     ], 10.000005, 1. , 1., 2, 0)\n",
      " ( 5, [0.885809 , 0.698859 , 0.666422 ], [1., 1., 1.], [0., 0., 0.], [ 0.     ,  0.     ,  0.     ], 10.000005, 1. , 1., 2, 0)\n",
      " ( 6, [0.570068 , 0.0430135, 0.0443706], [1., 1., 1.], [0., 0., 0.], [ 0.     ,  0.     ,  0.     ], 10.000005, 1.5, 1., 2, 0)\n",
      " ( 7, [0.570068 , 0.0430135, 0.0443706], [1., 1., 1.], [0., 0., 0.], [ 0.     ,  0.     ,  0.     ], 10.000005, 1.5, 1., 2, 0)\n",
      " ( 8, [0.105421 , 0.37798  , 0.076425 ], [1., 1., 1.], [0., 0., 0.], [ 0.     ,  0.     ,  0.     ], 10.000005, 1.5, 1., 2, 0)\n",
      " ( 9, [0.105421 , 0.37798  , 0.076425 ], [1., 1., 1.], [0., 0., 0.], [ 0.     ,  0.     ,  0.     ], 10.000005, 1.5, 1., 2, 0)\n",
      " (10, [0.885809 , 0.698859 , 0.666422 ], [1., 1., 1.], [0., 0., 0.], [18.387  , 13.9873 ,  6.75357], 10.000005, 1.5, 1., 1, 1)\n",
      " (11, [0.885809 , 0.698859 , 0.666422 ], [1., 1., 1.], [0., 0., 0.], [18.387  , 13.9873 ,  6.75357], 10.000005, 1.5, 1., 1, 1)]\n"
     ]
    },
    {
     "data": {
      "text/plain": "Widget(value='<iframe src=\"http://localhost:54002/index.html?ui=P_0x1780386d0_0&reconnect=auto\" class=\"pyvista…",
      "application/vnd.jupyter.widget-view+json": {
       "version_major": 2,
       "version_minor": 0,
       "model_id": "9d40c0cc36dc4a24ad82f2e7d0900b0e"
      }
     },
     "metadata": {},
     "output_type": "display_data"
    }
   ],
   "source": [
    "from utils.mesh import parse_scene, extract_material_data_from_mesh\n",
    "import pyvista as pv\n",
    "\n",
    "pv.set_jupyter_backend('trame')\n",
    "\n",
    "\n",
    "vertices, faces, material_data = parse_scene(obj_path)\n",
    "\n",
    "# Print material data\n",
    "print(\"Material Data:\")\n",
    "print(material_data)\n",
    "\n",
    "# Print vertices\n",
    "print(\"\\nVertices:\")\n",
    "print(vertices)\n",
    "\n",
    "# Print faces\n",
    "print(\"\\nFaces Array:\")\n",
    "print(faces)\n",
    "\n",
    "# Now you can load vertices and faces_array into PyVista\n",
    "# Example:\n",
    "mesh = pv.PolyData(vertices, faces)\n",
    "\n",
    "\n",
    "# Attach all material properties to the mesh\n",
    "mesh.cell_data['face_idx'] = material_data['face_idx']\n",
    "mesh.cell_data['diffuse'] = material_data['diffuse']\n",
    "mesh.cell_data['ambient'] = material_data['ambient']\n",
    "mesh.cell_data['specular'] = material_data['specular']\n",
    "mesh.cell_data['emission'] = material_data['emission']\n",
    "mesh.cell_data['shininess'] = material_data['shininess']\n",
    "mesh.cell_data['ior'] = material_data['ior']\n",
    "mesh.cell_data['opacity'] = material_data['opacity']\n",
    "mesh.cell_data['illum'] = material_data['illum']\n",
    "mesh.cell_data['is_light'] = material_data['is_light']\n",
    "\n",
    "# Triangulate the mesh\n",
    "triangulated_mesh = mesh.triangulate()\n",
    "\n",
    "# Extract material data from the triangulated mesh\n",
    "material_data = extract_material_data_from_mesh(triangulated_mesh)\n",
    "\n",
    "# Print extracted material data to verify\n",
    "print(material_data)\n",
    "\n",
    "\n",
    "\n",
    "# Create the left mirror sphere\n",
    "left_sphere_center = (-0.31, 0.495, 0.175)\n",
    "left_sphere_radius = 0.495\n",
    "left_sphere = pv.Sphere(radius=left_sphere_radius, center=left_sphere_center)\n",
    "\n",
    "# Create the right transparent glass sphere\n",
    "right_sphere_center = (0.49, 0.245, -0.225)\n",
    "right_sphere_radius = 0.245\n",
    "right_sphere = pv.Sphere(radius=right_sphere_radius, center=right_sphere_center)\n",
    "\n",
    "\n",
    "\n",
    "# Visualize the triangulated mesh to check if colors are mapped properly\n",
    "plotter = pv.Plotter()\n",
    "\n",
    "\n",
    "# Set the initial camera position and focal point\n",
    "plotter.camera_position = 'xy'  # Align the camera view\n",
    "\n",
    "\n",
    "plotter.add_mesh(triangulated_mesh, scalars='diffuse', rgb=True, show_edges=True)\n",
    "\n",
    "\n",
    "# Add the spheres to the plotter\n",
    "plotter.add_mesh(left_sphere, color='silver', specular=1.0, smooth_shading=True)  # Mirror-like sphere\n",
    "plotter.add_mesh(right_sphere, color='white', opacity=0.5, smooth_shading=True)  # Transparent sphere\n",
    "\n",
    "\n",
    "# Reset the camera to automatically fit the scene\n",
    "plotter.reset_camera()  # This does what \"Reset camera\" in the GUI does\n",
    "\n",
    "# Show the plotter window\n",
    "plotter.show()\n",
    "\n",
    "# Extract the updated camera parameters after resetting the camera\n",
    "camera_position = plotter.camera_position[0]  # Camera position\n",
    "camera_focal_point = plotter.camera_position[1]  # Look-at point\n",
    "camera_up_vector = plotter.camera.up  # Up direction\n",
    "\n",
    "# Convert these to numpy arrays or Taichi vectors as needed\n",
    "_position = np.array(camera_position)\n",
    "_look_at = np.array(camera_focal_point)\n",
    "_up = np.array(camera_up_vector)\n"
   ],
   "metadata": {
    "collapsed": false,
    "ExecuteTime": {
     "end_time": "2025-02-22T00:51:27.718003Z",
     "start_time": "2025-02-22T00:51:24.268736Z"
    }
   }
  },
  {
   "cell_type": "code",
   "execution_count": 5,
   "outputs": [
    {
     "data": {
      "text/plain": "(array([-0.01      ,  0.995     ,  6.71198469]),\n array([-0.01 ,  0.995, -0.025]),\n array([0., 1., 0.]))"
     },
     "execution_count": 5,
     "metadata": {},
     "output_type": "execute_result"
    }
   ],
   "source": [
    "_position, _look_at, _up"
   ],
   "metadata": {
    "collapsed": false,
    "ExecuteTime": {
     "end_time": "2025-02-22T00:51:27.718253Z",
     "start_time": "2025-02-22T00:51:27.714600Z"
    }
   }
  },
  {
   "cell_type": "code",
   "execution_count": 6,
   "outputs": [
    {
     "name": "stdout",
     "output_type": "stream",
     "text": [
      "[-0.010000000000000009, 0.995, -0.025000000000000022]\n"
     ]
    }
   ],
   "source": [
    "print(triangulated_mesh.center)"
   ],
   "metadata": {
    "collapsed": false,
    "ExecuteTime": {
     "end_time": "2025-02-22T00:51:27.734356Z",
     "start_time": "2025-02-22T00:51:27.718281Z"
    }
   }
  },
  {
   "cell_type": "code",
   "execution_count": 7,
   "outputs": [
    {
     "name": "stdout",
     "output_type": "stream",
     "text": [
      "True\n",
      "12 2 10 0 0\n"
     ]
    }
   ],
   "source": [
    "# Example: Check how many faces have illum=7\n",
    "illum_1 = material_data[material_data['illum'] == 1].shape[0]\n",
    "illum_2 = material_data[material_data['illum'] == 2].shape[0]\n",
    "illum_5 = material_data[material_data['illum'] == 5].shape[0]\n",
    "illum_7 = material_data[material_data['illum'] == 7].shape[0]\n",
    "\n",
    "# Number of faces with illum=7\n",
    "total_faces = material_data.shape[0]\n",
    "\n",
    "# Print the result\n",
    "print(total_faces==(illum_1+illum_2+illum_5+illum_7))\n",
    "print(total_faces, illum_1, illum_2, illum_5, illum_7)"
   ],
   "metadata": {
    "collapsed": false,
    "ExecuteTime": {
     "end_time": "2025-02-22T00:51:27.734449Z",
     "start_time": "2025-02-22T00:51:27.721812Z"
    }
   }
  },
  {
   "cell_type": "code",
   "execution_count": 8,
   "outputs": [
    {
     "name": "stdout",
     "output_type": "stream",
     "text": [
      "12 12 24\n"
     ]
    }
   ],
   "source": [
    "# Extract vertices\n",
    "vertices = triangulated_mesh.points.astype(np.float32)\n",
    "n_vertices = vertices.shape[0]\n",
    "\n",
    "# Extract faces directly after triangulation\n",
    "faces = triangulated_mesh.faces.reshape(-1, 4)[:, 1:4]  # Reshape and remove the first column (number of points per face)\n",
    "faces = faces.astype(np.int32)\n",
    "n_faces = faces.shape[0]\n",
    "\n",
    "n_triangles = n_faces\n",
    "\n",
    "n_lights = illum_1  # assumed emissive surfaces have illum=2\n",
    "\n",
    "print(n_triangles, n_faces, n_vertices)"
   ],
   "metadata": {
    "collapsed": false,
    "ExecuteTime": {
     "end_time": "2025-02-22T00:51:27.734496Z",
     "start_time": "2025-02-22T00:51:27.724722Z"
    }
   }
  },
  {
   "cell_type": "code",
   "execution_count": 9,
   "outputs": [],
   "source": [
    "# Create Taichi fields\n",
    "vertices_field = ti.Vector.field(3, dtype=ti.f32, shape=(n_vertices,))\n",
    "faces_field = ti.Vector.field(3, dtype=ti.i32, shape=(n_faces,))\n",
    "\n",
    "vertices_field.from_numpy(vertices)\n",
    "faces_field.from_numpy(faces)"
   ],
   "metadata": {
    "collapsed": false,
    "ExecuteTime": {
     "end_time": "2025-02-22T00:51:27.836037Z",
     "start_time": "2025-02-22T00:51:27.728233Z"
    }
   }
  },
  {
   "cell_type": "code",
   "execution_count": 10,
   "outputs": [],
   "source": [
    "# from primitives.triangle import Triangle\n",
    "#\n",
    "# # Create a Taichi field for the triangles\n",
    "# TS = ti.root.dense(ti.i, n_triangles)\n",
    "# triangles = Triangle.field()\n",
    "# TS.place(triangles)"
   ],
   "metadata": {
    "collapsed": false,
    "ExecuteTime": {
     "end_time": "2025-02-22T00:51:27.836190Z",
     "start_time": "2025-02-22T00:51:27.825426Z"
    }
   }
  },
  {
   "cell_type": "code",
   "execution_count": 11,
   "outputs": [],
   "source": [
    "n_spheres = 2 # will describe later\n",
    "n_primitives = n_triangles + n_spheres"
   ],
   "metadata": {
    "collapsed": false,
    "ExecuteTime": {
     "end_time": "2025-02-22T00:51:27.836256Z",
     "start_time": "2025-02-22T00:51:27.827657Z"
    }
   }
  },
  {
   "cell_type": "code",
   "execution_count": 12,
   "outputs": [
    {
     "data": {
      "text/plain": "<ti.SNode of type dense>"
     },
     "execution_count": 12,
     "metadata": {},
     "output_type": "execute_result"
    }
   ],
   "source": [
    "from primitives.primitives import Sphere\n",
    "\n",
    "if n_spheres==0:\n",
    "    sphere_field_size = 1\n",
    "else:\n",
    "    sphere_field_size = n_spheres\n",
    "\n",
    "SS = ti.root.dense(ti.i, sphere_field_size)\n",
    "spheres = Sphere.field()  # shape=(n_spheres)\n",
    "SS.place(spheres)"
   ],
   "metadata": {
    "collapsed": false,
    "ExecuteTime": {
     "end_time": "2025-02-22T00:51:27.899802Z",
     "start_time": "2025-02-22T00:51:27.829971Z"
    }
   }
  },
  {
   "cell_type": "code",
   "execution_count": 13,
   "outputs": [
    {
     "data": {
      "text/plain": "<ti.SNode of type dense>"
     },
     "execution_count": 13,
     "metadata": {},
     "output_type": "execute_result"
    }
   ],
   "source": [
    "from base.materials import Material\n",
    "\n",
    "# Create a Taichi field for the materials\n",
    "\n",
    "MS = ti.root.dense(ti.i, n_triangles)\n",
    "materials = Material.field()\n",
    "MS.place(materials)"
   ],
   "metadata": {
    "collapsed": false,
    "ExecuteTime": {
     "end_time": "2025-02-22T00:51:27.899946Z",
     "start_time": "2025-02-22T00:51:27.892116Z"
    }
   }
  },
  {
   "cell_type": "code",
   "execution_count": 14,
   "outputs": [
    {
     "data": {
      "text/plain": "<ti.SNode of type dense>"
     },
     "execution_count": 14,
     "metadata": {},
     "output_type": "execute_result"
    }
   ],
   "source": [
    "from primitives.primitives import Primitive\n",
    "\n",
    "# Create a Taichi field for the materials\n",
    "PS = ti.root.dense(ti.i, n_primitives)\n",
    "primitives = Primitive.field()\n",
    "PS.place(primitives)"
   ],
   "metadata": {
    "collapsed": false,
    "ExecuteTime": {
     "end_time": "2025-02-22T00:51:27.930842Z",
     "start_time": "2025-02-22T00:51:27.898315Z"
    }
   }
  },
  {
   "cell_type": "code",
   "execution_count": 15,
   "outputs": [
    {
     "data": {
      "text/plain": "<ti.SNode of type dense>"
     },
     "execution_count": 15,
     "metadata": {},
     "output_type": "execute_result"
    }
   ],
   "source": [
    "from base.lights import DiffuseAreaLight\n",
    "\n",
    "# Create a Taichi field for light sources\n",
    "LS = ti.root.dense(ti.i, n_lights)\n",
    "lights = DiffuseAreaLight.field()\n",
    "LS.place(lights)"
   ],
   "metadata": {
    "collapsed": false,
    "ExecuteTime": {
     "end_time": "2025-02-22T00:51:27.983972Z",
     "start_time": "2025-02-22T00:51:27.920484Z"
    }
   }
  },
  {
   "cell_type": "code",
   "execution_count": 16,
   "outputs": [
    {
     "name": "stdout",
     "output_type": "stream",
     "text": [
      "All face_idx are unique: True\n"
     ]
    }
   ],
   "source": [
    "# Extract the 'face_idx' field\n",
    "face_idx = material_data['face_idx']\n",
    "\n",
    "# Check if all 'face_idx' values are unique\n",
    "are_unique = len(face_idx) == len(np.unique(face_idx))\n",
    "\n",
    "print(\"All face_idx are unique:\", are_unique)"
   ],
   "metadata": {
    "collapsed": false,
    "ExecuteTime": {
     "end_time": "2025-02-22T00:51:28.010217Z",
     "start_time": "2025-02-22T00:51:27.952022Z"
    }
   }
  },
  {
   "cell_type": "code",
   "execution_count": 17,
   "outputs": [
    {
     "data": {
      "text/plain": "False"
     },
     "execution_count": 17,
     "metadata": {},
     "output_type": "execute_result"
    }
   ],
   "source": [
    "len(material_data) == n_primitives"
   ],
   "metadata": {
    "collapsed": false,
    "ExecuteTime": {
     "end_time": "2025-02-22T00:51:28.010535Z",
     "start_time": "2025-02-22T00:51:27.954334Z"
    }
   }
  },
  {
   "cell_type": "code",
   "execution_count": 18,
   "outputs": [
    {
     "data": {
      "text/plain": "array([( 0, [0.885809 , 0.698859 , 0.666422 ], [1., 1., 1.], [0., 0., 0.], [ 0.     ,  0.     ,  0.     ], 10.000005, 1. , 1., 2, 0),\n       ( 1, [0.885809 , 0.698859 , 0.666422 ], [1., 1., 1.], [0., 0., 0.], [ 0.     ,  0.     ,  0.     ], 10.000005, 1. , 1., 2, 0),\n       ( 2, [0.885809 , 0.698859 , 0.666422 ], [1., 1., 1.], [0., 0., 0.], [ 0.     ,  0.     ,  0.     ], 10.000005, 1. , 1., 2, 0),\n       ( 3, [0.885809 , 0.698859 , 0.666422 ], [1., 1., 1.], [0., 0., 0.], [ 0.     ,  0.     ,  0.     ], 10.000005, 1. , 1., 2, 0),\n       ( 4, [0.885809 , 0.698859 , 0.666422 ], [1., 1., 1.], [0., 0., 0.], [ 0.     ,  0.     ,  0.     ], 10.000005, 1. , 1., 2, 0),\n       ( 5, [0.885809 , 0.698859 , 0.666422 ], [1., 1., 1.], [0., 0., 0.], [ 0.     ,  0.     ,  0.     ], 10.000005, 1. , 1., 2, 0),\n       ( 6, [0.570068 , 0.0430135, 0.0443706], [1., 1., 1.], [0., 0., 0.], [ 0.     ,  0.     ,  0.     ], 10.000005, 1.5, 1., 2, 0),\n       ( 7, [0.570068 , 0.0430135, 0.0443706], [1., 1., 1.], [0., 0., 0.], [ 0.     ,  0.     ,  0.     ], 10.000005, 1.5, 1., 2, 0),\n       ( 8, [0.105421 , 0.37798  , 0.076425 ], [1., 1., 1.], [0., 0., 0.], [ 0.     ,  0.     ,  0.     ], 10.000005, 1.5, 1., 2, 0),\n       ( 9, [0.105421 , 0.37798  , 0.076425 ], [1., 1., 1.], [0., 0., 0.], [ 0.     ,  0.     ,  0.     ], 10.000005, 1.5, 1., 2, 0),\n       (10, [0.885809 , 0.698859 , 0.666422 ], [1., 1., 1.], [0., 0., 0.], [18.387  , 13.9873 ,  6.75357], 10.000005, 1.5, 1., 1, 1),\n       (11, [0.885809 , 0.698859 , 0.666422 ], [1., 1., 1.], [0., 0., 0.], [18.387  , 13.9873 ,  6.75357], 10.000005, 1.5, 1., 1, 1)],\n      dtype=[('face_idx', '<i4'), ('diffuse', '<f4', (3,)), ('ambient', '<f4', (3,)), ('specular', '<f4', (3,)), ('emission', '<f4', (3,)), ('shininess', '<f4'), ('ior', '<f4'), ('opacity', '<f4'), ('illum', '<i4'), ('is_light', '<i4')])"
     },
     "execution_count": 18,
     "metadata": {},
     "output_type": "execute_result"
    }
   ],
   "source": [
    "material_data"
   ],
   "metadata": {
    "collapsed": false,
    "ExecuteTime": {
     "end_time": "2025-02-22T00:51:28.010898Z",
     "start_time": "2025-02-22T00:51:27.957102Z"
    }
   }
  },
  {
   "cell_type": "code",
   "execution_count": 19,
   "outputs": [
    {
     "ename": "ValueError",
     "evalue": "no field of name material_type",
     "output_type": "error",
     "traceback": [
      "\u001B[0;31m---------------------------------------------------------------------------\u001B[0m",
      "\u001B[0;31mValueError\u001B[0m                                Traceback (most recent call last)",
      "Cell \u001B[0;32mIn[19], line 1\u001B[0m\n\u001B[0;32m----> 1\u001B[0m \u001B[43mmaterials\u001B[49m\u001B[38;5;241;43m.\u001B[39;49m\u001B[43mfrom_numpy\u001B[49m\u001B[43m(\u001B[49m\u001B[43mmaterial_data\u001B[49m\u001B[43m)\u001B[49m\n",
      "File \u001B[0;32m~/LightTransportSimulator/lib/python3.11/site-packages/taichi/lang/util.py:321\u001B[0m, in \u001B[0;36mpython_scope.<locals>.wrapped\u001B[0;34m(*args, **kwargs)\u001B[0m\n\u001B[1;32m    318\u001B[0m \u001B[38;5;129m@functools\u001B[39m\u001B[38;5;241m.\u001B[39mwraps(func)\n\u001B[1;32m    319\u001B[0m \u001B[38;5;28;01mdef\u001B[39;00m \u001B[38;5;21mwrapped\u001B[39m(\u001B[38;5;241m*\u001B[39margs, \u001B[38;5;241m*\u001B[39m\u001B[38;5;241m*\u001B[39mkwargs):\n\u001B[1;32m    320\u001B[0m     \u001B[38;5;28;01massert\u001B[39;00m in_python_scope(), \u001B[38;5;124mf\u001B[39m\u001B[38;5;124m\"\u001B[39m\u001B[38;5;132;01m{\u001B[39;00mfunc\u001B[38;5;241m.\u001B[39m\u001B[38;5;18m__name__\u001B[39m\u001B[38;5;132;01m}\u001B[39;00m\u001B[38;5;124m cannot be called in Taichi-scope\u001B[39m\u001B[38;5;124m\"\u001B[39m\n\u001B[0;32m--> 321\u001B[0m     \u001B[38;5;28;01mreturn\u001B[39;00m \u001B[43mfunc\u001B[49m\u001B[43m(\u001B[49m\u001B[38;5;241;43m*\u001B[39;49m\u001B[43margs\u001B[49m\u001B[43m,\u001B[49m\u001B[43m \u001B[49m\u001B[38;5;241;43m*\u001B[39;49m\u001B[38;5;241;43m*\u001B[39;49m\u001B[43mkwargs\u001B[49m\u001B[43m)\u001B[49m\n",
      "File \u001B[0;32m~/LightTransportSimulator/lib/python3.11/site-packages/taichi/lang/struct.py:502\u001B[0m, in \u001B[0;36mStructField.from_numpy\u001B[0;34m(self, array_dict)\u001B[0m\n\u001B[1;32m    495\u001B[0m \u001B[38;5;250m\u001B[39m\u001B[38;5;124;03m\"\"\"Copies the data from a set of `numpy.array` into this field.\u001B[39;00m\n\u001B[1;32m    496\u001B[0m \n\u001B[1;32m    497\u001B[0m \u001B[38;5;124;03mThe argument `array_dict` must be a dictionay-like object, it\u001B[39;00m\n\u001B[1;32m    498\u001B[0m \u001B[38;5;124;03mcontains all the keys in this field and the copying process\u001B[39;00m\n\u001B[1;32m    499\u001B[0m \u001B[38;5;124;03mbetween corresponding items can be performed.\u001B[39;00m\n\u001B[1;32m    500\u001B[0m \u001B[38;5;124;03m\"\"\"\u001B[39;00m\n\u001B[1;32m    501\u001B[0m \u001B[38;5;28;01mfor\u001B[39;00m k, v \u001B[38;5;129;01min\u001B[39;00m \u001B[38;5;28mself\u001B[39m\u001B[38;5;241m.\u001B[39m_items:\n\u001B[0;32m--> 502\u001B[0m     v\u001B[38;5;241m.\u001B[39mfrom_numpy(\u001B[43marray_dict\u001B[49m\u001B[43m[\u001B[49m\u001B[43mk\u001B[49m\u001B[43m]\u001B[49m)\n",
      "\u001B[0;31mValueError\u001B[0m: no field of name material_type"
     ]
    }
   ],
   "source": [
    "materials.from_numpy(material_data)"
   ],
   "metadata": {
    "collapsed": false,
    "ExecuteTime": {
     "end_time": "2025-02-22T00:51:28.137342Z",
     "start_time": "2025-02-22T00:51:27.958992Z"
    }
   }
  },
  {
   "cell_type": "code",
   "execution_count": null,
   "outputs": [],
   "source": [
    "materials[11]['face_idx'] == 11"
   ],
   "metadata": {
    "collapsed": false,
    "ExecuteTime": {
     "start_time": "2025-02-22T00:51:28.105616Z"
    }
   }
  },
  {
   "cell_type": "code",
   "execution_count": null,
   "outputs": [],
   "source": [
    "lights.shape"
   ],
   "metadata": {
    "collapsed": false,
    "ExecuteTime": {
     "start_time": "2025-02-22T00:51:28.118319Z"
    }
   }
  },
  {
   "cell_type": "code",
   "execution_count": null,
   "outputs": [],
   "source": [
    "from utils.misc import max_component\n",
    "from base.bsdf import BXDF_DIFFUSE_REFLECTION, BXDF_SPECULAR_REFLECTION, BXDF_DIFFUSE_TRANSMISSION, BXDF_SPECULAR_TRANSMISSION\n",
    "\n",
    "@ti.kernel\n",
    "def populate_shapes():\n",
    "    light_idx = 0\n",
    "    for i in range(primitives.shape[0]-n_spheres):\n",
    "        # Set up the geometry for the primitive (triangle in this case)\n",
    "        primitives[i].triangle.vertex_1 = vertices_field[faces_field[i][0]]\n",
    "        primitives[i].triangle.vertex_2 = vertices_field[faces_field[i][1]]\n",
    "        primitives[i].triangle.vertex_3 = vertices_field[faces_field[i][2]]\n",
    "        primitives[i].triangle.centroid = (primitives[i].triangle.vertex_1 + primitives[i].triangle.vertex_2 + primitives[i].triangle.vertex_3) / 3.0\n",
    "        primitives[i].triangle.edge_1 = primitives[i].triangle.vertex_2 - primitives[i].triangle.vertex_1\n",
    "        primitives[i].triangle.edge_2 = primitives[i].triangle.vertex_3 - primitives[i].triangle.vertex_1\n",
    "        primitives[i].triangle.normal = normalize(cross(primitives[i].triangle.edge_1, primitives[i].triangle.edge_2))\n",
    "\n",
    "        # Initialize the BSDF frame\n",
    "        # primitives[i].bsdf.init_frame(primitives[i].triangle.normal)\n",
    "\n",
    "        primitives[i].bsdf.diffuse.type = 0\n",
    "        primitives[i].bsdf.transmit.type = 1\n",
    "        primitives[i].bsdf.dielectric.type = 2\n",
    "        primitives[i].bsdf.conductor.type = 3\n",
    "        primitives[i].bsdf.mirror.type = 4\n",
    "        primitives[i].bsdf.specular.type = 5\n",
    "\n",
    "        # Determine the BxDF type based on material properties\n",
    "        illum = materials[i].illum\n",
    "\n",
    "        # if illum == 0 or illum == 1:  # Diffuse materials\n",
    "        #     primitives[i].bsdf.add_diffuse(materials[i].diffuse)\n",
    "        # elif illum == 2:  # Diffuse + Specular (using Conductor BxDF for specular)\n",
    "        #     roughness = 1.0 - (materials[i].shininess / 1000.0)\n",
    "        #     primitives[i].bsdf.add_conductor(materials[i].diffuse, vec3(0.0), roughness)\n",
    "        # elif illum == 3:  # Diffuse + Specular + Reflection (using Conductor BxDF)\n",
    "        #     roughness = 1.0 - (materials[i].shininess / 1000.0)\n",
    "        #     primitives[i].bsdf.add_conductor(materials[i].diffuse, vec3(0.0), roughness)\n",
    "        # elif illum == 4 or illum == 6:  # Transparent materials (Dielectric BxDF)\n",
    "        #     primitives[i].bsdf.add_dielectric(materials[i].ior, 0.0)  # Assume perfectly smooth dielectric\n",
    "        # elif illum == 5 or illum == 7:  # Mirror reflection (using Conductor BxDF)\n",
    "        #     primitives[i].bsdf.add_conductor(vec3(1.5), vec3(0.0), 0.0)  # Perfectly smooth conductor\n",
    "        # else:  # Default to Diffuse\n",
    "        #     primitives[i].bsdf.add_diffuse(materials[i].diffuse)\n",
    "\n",
    "        if illum == 1 or illum == 2:  # Diffuse materials\n",
    "            primitives[i].bsdf.add_diffuse(materials[i].diffuse)\n",
    "        if illum == 5:  # Mirror materials\n",
    "            primitives[i].bsdf.add_mirror(materials[i].specular)\n",
    "        elif illum == 6:  # Metals (using Conductor BxDF)\n",
    "            eta_silver = vec3(0.155, 0.116, 0.138)\n",
    "            k_silver = vec3(4.828, 3.122, 2.146)\n",
    "            roughness = 0.0\n",
    "            primitives[i].bsdf.add_conductor(eta_silver, k_silver, roughness)\n",
    "        elif illum == 7:  # Transparent materials (Dielectric BxDF)\n",
    "            primitives[i].bsdf.add_dielectric(materials[i].ior, materials[i].specular, 0.1)  # Assume perfectly smooth dielectric\n",
    "        else:  # Default to Diffuse\n",
    "            primitives[i].bsdf.add_diffuse(materials[i].diffuse)\n",
    "\n",
    "\n",
    "        # Handle emissive materials (lights)\n",
    "        if max_component(materials[i].emission) > 0:\n",
    "            primitives[i].is_light = 1\n",
    "            primitives[i].light_idx = light_idx\n",
    "            lights[light_idx].shape_idx = i  # Link the light to the primitive\n",
    "            lights[light_idx].two_sided = 0  # Assuming lights are one-sided\n",
    "            lights[light_idx].Le = materials[i].emission\n",
    "            light_idx += 1\n",
    "        else:\n",
    "            primitives[i].is_light = 0\n",
    "\n",
    "        # Assign material to the primitive\n",
    "        primitives[i].material = materials[i]\n",
    "\n",
    "        # Set the shape type, assuming 0 is for triangle\n",
    "        primitives[i].shape_type = 0\n",
    "\n",
    "        if materials[i].face_idx == i:\n",
    "            primitives[i].material = materials[i]\n",
    "        else:\n",
    "            print(\"face mismatch!!\")\n",
    "\n",
    "    print(\"Shapes populated:\", primitives.shape[0])\n",
    "\n",
    "\n",
    "# Call the kernel to populate the triangles\n",
    "populate_shapes()"
   ],
   "metadata": {
    "collapsed": false,
    "ExecuteTime": {
     "start_time": "2025-02-22T00:51:28.119347Z"
    }
   }
  },
  {
   "cell_type": "code",
   "execution_count": null,
   "outputs": [],
   "source": [
    "@ti.kernel\n",
    "def add_spheres():\n",
    "\n",
    "    # Define the BSDF types for easy reference\n",
    "    primitives[n_triangles].bsdf.diffuse.type = 0\n",
    "    primitives[n_triangles].bsdf.transmit.type = 1\n",
    "    primitives[n_triangles].bsdf.dielectric.type = 2\n",
    "    primitives[n_triangles].bsdf.conductor.type = 3\n",
    "    primitives[n_triangles].bsdf.mirror.type = 4\n",
    "    primitives[n_triangles].bsdf.specular.type = 5\n",
    "\n",
    "    # Add the left mirror sphere (Positioned on the left side of the box)\n",
    "    primitives[n_triangles].shape_type = 1  # 1 indicates a sphere\n",
    "    primitives[n_triangles].sphere.center = vec3([-0.31, 0.495, 0.175])\n",
    "    primitives[n_triangles].sphere.radius = 0.495\n",
    "    # primitives[n_triangles].sphere.center = vec3([-0.41, 0.395, -0.225])\n",
    "    # primitives[n_triangles].sphere.radius = 0.4\n",
    "    primitives[n_triangles].is_light = 0\n",
    "\n",
    "    # Set up the material for the left mirror sphere\n",
    "    primitives[n_triangles].material.diffuse = vec3([0.03, 0.03, 0.03])\n",
    "    primitives[n_triangles].material.specular = vec3([0.999, 0.999, 0.999])\n",
    "    primitives[n_triangles].material.emission = vec3([0.0, 0.0, 0.0])\n",
    "    primitives[n_triangles].material.shininess = 1024.0\n",
    "    primitives[n_triangles].material.ior = 1.0\n",
    "    primitives[n_triangles].material.opacity = 1.0\n",
    "    primitives[n_triangles].material.is_light = 0\n",
    "\n",
    "    eta_silver = vec3(0.155, 0.116, 0.138)\n",
    "    k_silver = vec3(4.828, 3.122, 2.146)\n",
    "    roughness = 0.0\n",
    "\n",
    "    # Set up the BSDF for the left mirror sphere\n",
    "    primitives[n_triangles].bsdf.add_conductor(eta_silver, k_silver, roughness)\n",
    "\n",
    "\n",
    "\n",
    "    # Define the BSDF types for easy reference\n",
    "    primitives[n_triangles + 1].bsdf.diffuse.type = 0\n",
    "    primitives[n_triangles + 1].bsdf.transmit.type = 1\n",
    "    primitives[n_triangles + 1].bsdf.dielectric.type = 2\n",
    "    primitives[n_triangles + 1].bsdf.conductor.type = 3\n",
    "    primitives[n_triangles + 1].bsdf.mirror.type = 4\n",
    "    primitives[n_triangles + 1].bsdf.specular.type = 5\n",
    "\n",
    "    # Add the right transparent glass sphere (Positioned on the right side of the box)\n",
    "    primitives[n_triangles + 1].shape_type = 1  # 1 indicates a sphere\n",
    "    primitives[n_triangles + 1].sphere.center = vec3([0.49, 0.245, -0.225])\n",
    "    primitives[n_triangles + 1].sphere.radius = 0.245\n",
    "    # primitives[n_triangles + 1].sphere.center = vec3([0.49, 0.395, 0.175])\n",
    "    # primitives[n_triangles + 1].sphere.radius = 0.4\n",
    "    primitives[n_triangles + 1].is_light = 0  # Not a light source\n",
    "\n",
    "    # Set up the material for the right transparent glass sphere\n",
    "    primitives[n_triangles + 1].material.diffuse = vec3([0.01, 0.01, 0.01])\n",
    "    primitives[n_triangles + 1].material.specular = vec3([0.999, 0.999, 0.999])\n",
    "    primitives[n_triangles + 1].material.emission = vec3([0.0, 0.0, 0.0])\n",
    "    primitives[n_triangles + 1].material.shininess = 1024.0\n",
    "    primitives[n_triangles + 1].material.ior = 1.5\n",
    "    primitives[n_triangles + 1].material.opacity = 0.1\n",
    "    primitives[n_triangles + 1].material.is_light = 0\n",
    "\n",
    "    # Set up the BSDF for the right transparent glass sphere\n",
    "    primitives[n_triangles + 1].bsdf.add_dielectric(primitives[n_triangles + 1].material.ior, primitives[n_triangles + 1].material.specular, 0.0)\n",
    "    # primitives[n_triangles + 1].bsdf.add_specular(primitives[n_triangles + 1].material.specular, primitives[n_triangles + 1].material.ior)\n",
    "\n",
    "# Assuming `primitives` and `n_triangles` are defined globally\n",
    "add_spheres()\n"
   ],
   "metadata": {
    "collapsed": false,
    "ExecuteTime": {
     "start_time": "2025-02-22T00:51:28.119454Z"
    }
   }
  },
  {
   "cell_type": "code",
   "execution_count": null,
   "outputs": [],
   "source": [
    "primitives[n_triangles].bsdf.type"
   ],
   "metadata": {
    "collapsed": false,
    "ExecuteTime": {
     "start_time": "2025-02-22T00:51:28.119509Z"
    }
   }
  },
  {
   "cell_type": "code",
   "execution_count": null,
   "outputs": [],
   "source": [
    "lights[0].shape_idx"
   ],
   "metadata": {
    "collapsed": false,
    "ExecuteTime": {
     "start_time": "2025-02-22T00:51:28.119572Z"
    }
   }
  },
  {
   "cell_type": "code",
   "execution_count": null,
   "outputs": [],
   "source": [
    "# p_min = np.min(vertices)\n",
    "# p_max = np.max(vertices)\n",
    "#\n",
    "# # centroid = vec3(bbox_center)\n",
    "# centroid = mesh.center\n",
    "#\n",
    "# min_p = ti.field(dtype=ti.f32, shape=())\n",
    "# min_p[None] = p_min\n",
    "#\n",
    "# centroid, min_p[None]"
   ],
   "metadata": {
    "collapsed": false,
    "ExecuteTime": {
     "start_time": "2025-02-22T00:51:28.119621Z"
    }
   }
  },
  {
   "cell_type": "code",
   "execution_count": null,
   "outputs": [],
   "source": [
    "from primitives.aabb import AABB, BVHPrimitive\n",
    "\n",
    "# Enclose all the primitives in their individual axis-aligned bounding boxes (AABB)\n",
    "BS = ti.root.dense(ti.i, n_primitives)\n",
    "bvh_primitives = BVHPrimitive.field()\n",
    "BS.place(bvh_primitives)\n",
    "\n",
    "@ti.kernel\n",
    "def init_bounded_boxes():\n",
    "    for i in ti.ndrange(n_primitives):\n",
    "        bvh_primitives[i].prim = primitives[i]\n",
    "        bvh_primitives[i].prim_num = i\n",
    "        min_p, max_p = primitives[i].get_bounds()\n",
    "        centroid = (min_p+max_p)/2\n",
    "        bvh_primitives[i].bounds = AABB(min_point=min_p, max_point=max_p, centroid=centroid)\n",
    "\n",
    "init_bounded_boxes()\n",
    "\n",
    "bvh_primitives.shape[0], n_primitives"
   ],
   "metadata": {
    "collapsed": false,
    "pycharm": {
     "name": "#%%\n"
    },
    "ExecuteTime": {
     "start_time": "2025-02-22T00:51:28.119673Z"
    }
   }
  },
  {
   "cell_type": "code",
   "execution_count": null,
   "outputs": [],
   "source": [
    "# bounded_boxes[3]"
   ],
   "metadata": {
    "collapsed": false,
    "ExecuteTime": {
     "start_time": "2025-02-22T00:51:28.119848Z"
    }
   }
  },
  {
   "cell_type": "code",
   "execution_count": null,
   "outputs": [],
   "source": [
    "OPS = ti.root.dense(ti.i, n_primitives)\n",
    "ordered_prims = Primitive.field()\n",
    "OPS.place(ordered_prims)"
   ],
   "metadata": {
    "collapsed": false,
    "ExecuteTime": {
     "start_time": "2025-02-22T00:51:28.119890Z"
    }
   }
  },
  {
   "cell_type": "code",
   "execution_count": null,
   "outputs": [],
   "source": [
    "from accelerators.bvh import BVHNode, BucketInfo\n",
    "\n",
    "node_idx = 0\n",
    "\n",
    "BVS = ti.root.dense(ti.i, 3 * n_primitives)\n",
    "nodes = BVHNode.field()\n",
    "BVS.place(nodes)\n"
   ],
   "metadata": {
    "collapsed": false,
    "ExecuteTime": {
     "start_time": "2025-02-22T00:51:28.119928Z"
    }
   }
  },
  {
   "cell_type": "code",
   "execution_count": null,
   "outputs": [],
   "source": [
    "nodes.shape[0]"
   ],
   "metadata": {
    "collapsed": false,
    "ExecuteTime": {
     "start_time": "2025-02-22T00:51:28.119964Z"
    }
   }
  },
  {
   "cell_type": "code",
   "execution_count": null,
   "outputs": [],
   "source": [
    "\n",
    "total_nodes = ti.field(ti.i32, shape=())\n",
    "split_method = ti.field(ti.i32, shape=())\n",
    "start = ti.field(ti.i32, shape=())\n",
    "end = ti.field(ti.i32, shape=())\n",
    "ordered_prims_idx = ti.field(ti.i32, shape=())\n",
    "stack_ptr = ti.field(ti.i32, shape=())\n",
    "# ordered_prims_size = ti.field(ti.i32, shape=())\n",
    "\n",
    "@ti.kernel\n",
    "def init_stack():\n",
    "    total_nodes[None] = 0\n",
    "    split_method[None] = 0\n",
    "    start[None] = 0\n",
    "    end[None] = n_primitives\n",
    "    ordered_prims_idx[None] = 0\n",
    "    stack_ptr[None] = 0\n",
    "    # ordered_prims_size[None] = 0\n",
    "\n",
    "init_stack()"
   ],
   "metadata": {
    "collapsed": false,
    "ExecuteTime": {
     "start_time": "2025-02-22T00:51:28.122565Z"
    }
   }
  },
  {
   "cell_type": "code",
   "execution_count": null,
   "outputs": [],
   "source": [
    "stack = ti.field(ti.i32, shape=(3*n_primitives, 4))\n",
    "n_buckets = 12\n",
    "buckets = BucketInfo.field(shape=(n_buckets))\n",
    "costs = ti.field(dtype=ti.f32, shape=(n_buckets-1))"
   ],
   "metadata": {
    "collapsed": false,
    "ExecuteTime": {
     "start_time": "2025-02-22T00:51:28.125244Z"
    }
   }
  },
  {
   "cell_type": "code",
   "execution_count": null,
   "outputs": [],
   "source": [
    "primitives.shape[0], bvh_primitives.shape[0], start[None], end[None], ordered_prims.shape[0], nodes.shape[0], total_nodes[None], split_method[None], stack.shape, stack_ptr[None], ordered_prims_idx[None], costs.shape[0], buckets.shape[0]"
   ],
   "metadata": {
    "collapsed": false,
    "ExecuteTime": {
     "start_time": "2025-02-22T00:51:28.127332Z"
    }
   }
  },
  {
   "cell_type": "code",
   "execution_count": null,
   "outputs": [],
   "source": [
    "from accelerators.bvh import build_bvh\n",
    "\n",
    "start_t = time.time()\n",
    "\n",
    "build_bvh(primitives, bvh_primitives, start, end, ordered_prims, nodes, total_nodes, split_method, stack, stack_ptr, ordered_prims_idx, costs, buckets)\n",
    "\n",
    "end_t = time.time()"
   ],
   "metadata": {
    "collapsed": false,
    "ExecuteTime": {
     "start_time": "2025-02-22T00:51:28.128980Z"
    }
   }
  },
  {
   "cell_type": "code",
   "execution_count": null,
   "outputs": [],
   "source": [
    "print(\"Elapsed (with compilation) = %s\" % (end_t - start_t))\n",
    "print(f\"Total Nodes: {total_nodes}\")"
   ],
   "metadata": {
    "collapsed": false,
    "ExecuteTime": {
     "start_time": "2025-02-22T00:51:28.130251Z"
    }
   }
  },
  {
   "cell_type": "code",
   "execution_count": null,
   "outputs": [],
   "source": [
    "total_nodes[None]"
   ],
   "metadata": {
    "collapsed": false,
    "ExecuteTime": {
     "start_time": "2025-02-22T00:51:28.131596Z"
    }
   }
  },
  {
   "cell_type": "code",
   "execution_count": null,
   "outputs": [],
   "source": [
    "nodes[0].child_0"
   ],
   "metadata": {
    "collapsed": false,
    "ExecuteTime": {
     "start_time": "2025-02-22T00:51:28.132874Z"
    }
   }
  },
  {
   "cell_type": "code",
   "execution_count": null,
   "outputs": [],
   "source": [
    "from tests.test_bvh import test_bvh\n",
    "max_nodes = n_primitives\n",
    "debug_stack = ti.field(dtype=ti.i32, shape=(max_nodes,))\n",
    "debug_ptr = ti.field(dtype=ti.i32, shape=(1,))\n",
    "error_count = ti.field(dtype=ti.i32, shape=(1,))\n",
    "\n",
    "test_bvh(nodes, debug_stack, debug_ptr, error_count)"
   ],
   "metadata": {
    "collapsed": false,
    "ExecuteTime": {
     "start_time": "2025-02-22T00:51:28.134208Z"
    }
   }
  },
  {
   "cell_type": "code",
   "execution_count": null,
   "outputs": [],
   "source": [
    "from accelerators.bvh import LinearBVHNode\n",
    "from accelerators.bvh import flatten_bvh\n",
    "\n",
    "# create a linear representation of the bvh tree (empty)\n",
    "\n",
    "LBVS = ti.root.dense(ti.i, total_nodes[None])\n",
    "linear_bvh = LinearBVHNode.field()\n",
    "LBVS.place(linear_bvh)\n",
    "\n",
    "stack_size = 2 * n_primitives - 1  # Maximum possible stack size\n",
    "stack3 = ti.Vector.field(3, dtype=ti.i32, shape=stack_size)\n",
    "stack_top_2 = ti.field(dtype=ti.i32, shape=())\n",
    "\n",
    "start_t = time.time()\n",
    "total_nodes = flatten_bvh(nodes, linear_bvh, 0, stack3, stack_top_2)\n",
    "end_t = time.time()\n",
    "print(f\"Total flattened nodes: {total_nodes}\")"
   ],
   "metadata": {
    "collapsed": false,
    "ExecuteTime": {
     "start_time": "2025-02-22T00:51:28.135393Z"
    }
   }
  },
  {
   "cell_type": "code",
   "execution_count": null,
   "outputs": [],
   "source": [
    "print(\"Elapsed (with compilation) = %s\" % (end_t - start_t))"
   ],
   "metadata": {
    "collapsed": false,
    "ExecuteTime": {
     "start_time": "2025-02-22T00:51:28.136459Z"
    }
   }
  },
  {
   "cell_type": "code",
   "execution_count": null,
   "outputs": [],
   "source": [
    "position = ti.Vector(_position.tolist()) # centroid + vec3([0.0, 0.0, min_p[None]*3])\n",
    "look_at = ti.Vector(_look_at.tolist()) # normalize(centroid - position)\n",
    "up = ti.Vector(_up.tolist()) # vec3([0.0, 1.0, 0.0])"
   ],
   "metadata": {
    "collapsed": false,
    "ExecuteTime": {
     "start_time": "2025-02-22T00:51:28.137268Z"
    }
   }
  },
  {
   "cell_type": "code",
   "execution_count": null,
   "outputs": [],
   "source": [
    "from taichi.math import radians, tan\n",
    "from base.frame import Frame, frame_from_z\n",
    "from base.camera import PerspectiveCamera\n",
    "\n",
    "camera = PerspectiveCamera.field(shape=())\n",
    "\n",
    "width = 256\n",
    "height = 256\n",
    "\n",
    "# zoomed_position = ti.Vector.field(3, dtype=ti.f32, shape=())\n",
    "# fov = ti.field(ti.f32, shape=())\n",
    "# aspect_ratio = ti.field(ti.f32, shape=())\n",
    "# lens_radius = ti.field(ti.f32, shape=())\n",
    "# focal_distance = ti.field(ti.f32, shape=())\n",
    "# screen_dx = ti.field(ti.f32, shape=())\n",
    "# screen_dy = ti.field(ti.f32, shape=())\n",
    "# dx_camera = ti.Vector.field(3, dtype=ti.f32, shape=())\n",
    "# dy_camera = ti.Vector.field(3, dtype=ti.f32, shape=())\n",
    "# frame = Frame.field(shape=())\n",
    "\n",
    "@ti.kernel\n",
    "def init_cam():\n",
    "    camera.width[None] = width\n",
    "    camera.height[None] = height\n",
    "    camera.fov[None] = 30.0\n",
    "    camera.aspect_ratio[None] = width / float(height)\n",
    "    camera.lens_radius[None] = 0.00  # Set to a small value like 0.01 to test depth of field\n",
    "    camera.focal_distance[None] = (look_at - position).norm()\n",
    "\n",
    "    direction = (look_at - position).normalized()\n",
    "    zoom_factor = 1.5  # + in / - out\n",
    "    camera.position[None] = position + direction * zoom_factor\n",
    "\n",
    "    # Setup the camera frame (z points towards the scene)\n",
    "    z = (look_at - camera.position[None]).normalized()\n",
    "    camera.frame[None] = frame_from_z(z)\n",
    "\n",
    "    theta = radians(camera.fov[None])\n",
    "    half_height = tan(theta / 2)\n",
    "    half_width = camera.aspect_ratio[None] * half_height\n",
    "\n",
    "    # Compute the screen dimensions in camera space\n",
    "    camera.screen_dx[None] = 2 * half_width\n",
    "    camera.screen_dy[None] = 2 * half_height\n",
    "\n",
    "    # Compute the pixel size in camera space\n",
    "    camera.dx_camera[None] = ti.Vector([camera.screen_dx[None] / width, 0.0, 0.0])\n",
    "    camera.dy_camera[None] = ti.Vector([0.0, camera.screen_dy[None] / height, 0.0])\n",
    "\n",
    "\n",
    "init_cam()"
   ],
   "metadata": {
    "collapsed": false
   }
  },
  {
   "cell_type": "code",
   "execution_count": null,
   "outputs": [],
   "source": [
    "camera.frame[None]"
   ],
   "metadata": {
    "collapsed": false
   }
  },
  {
   "cell_type": "code",
   "execution_count": null,
   "outputs": [],
   "source": [
    "@ti.kernel\n",
    "def test_camera():\n",
    "    # Generate a ray\n",
    "    s, t = 0.5, 0.5  # Center of the screen\n",
    "    ray_origin, ray_dir, rx_origin, rx_dir, ry_origin, ry_dir = camera[None].generate_ray_differential(s, t)\n",
    "    print(ray_origin, ray_dir, rx_origin, rx_dir, ry_origin, ry_dir)\n",
    "\n",
    "test_camera()"
   ],
   "metadata": {
    "collapsed": false
   }
  },
  {
   "cell_type": "code",
   "execution_count": null,
   "outputs": [],
   "source": [
    "from base.scene import Scene\n",
    "\n",
    "pt = 0\n",
    "mis = 1\n",
    "\n",
    "# Instantiate a Scene object with the Camera object\n",
    "scene = Scene(integrator=pt, spp=256, max_depth=6, sample_lights=1, sample_bsdf=1)"
   ],
   "metadata": {
    "collapsed": false
   }
  },
  {
   "cell_type": "code",
   "execution_count": null,
   "outputs": [],
   "source": [
    "from base.render import render\n",
    "\n",
    "# Initialize the image field outside the kernel using the actual values\n",
    "image = ti.Vector.field(3, dtype=ti.f32, shape=(camera[None].width, camera[None].height))\n",
    "\n",
    "\n",
    "start_t = time.time()\n",
    "\n",
    "# Call the render_scene kernel\n",
    "render(scene, image, lights, camera[None], ordered_prims, linear_bvh)\n",
    "\n",
    "end_t = time.time()\n",
    "\n",
    "print(\"Elapsed (with compilation) = %s\" % (end_t - start_t))"
   ],
   "metadata": {
    "collapsed": false
   }
  },
  {
   "cell_type": "code",
   "execution_count": null,
   "outputs": [],
   "source": [
    "image_np = image.to_numpy()\n",
    "# if np.isnan(image_np).any() or np.isinf(image_np).any():\n",
    "#     print(\"Warning: NaN or Inf values detected in the image\")\n",
    "# image_np = np.clip(image_np, 0, 1)  # Clip values between 0 and 1\n",
    "plt.imshow(image_np)\n",
    "plt.axis('off')\n",
    "plt.show()"
   ],
   "metadata": {
    "collapsed": false
   }
  },
  {
   "cell_type": "code",
   "execution_count": null,
   "outputs": [],
   "source": [
    "def tone_mapping(hdr_image, gamma=2.2):\n",
    "    ldr_image = hdr_image / (1.0 + hdr_image)\n",
    "    ldr_image = np.power(ldr_image, 1.0 / gamma)\n",
    "    return np.clip(ldr_image, 0, 1)\n",
    "\n",
    "ldr_image = tone_mapping(image_np)\n",
    "\n",
    "# Display the tone-mapped image\n",
    "plt.imshow(ldr_image)\n",
    "plt.axis('off')\n",
    "plt.show()"
   ],
   "metadata": {
    "collapsed": false
   }
  },
  {
   "cell_type": "code",
   "execution_count": null,
   "outputs": [],
   "source": [],
   "metadata": {
    "collapsed": false
   }
  },
  {
   "cell_type": "code",
   "execution_count": null,
   "outputs": [],
   "source": [],
   "metadata": {
    "collapsed": false
   }
  },
  {
   "cell_type": "code",
   "execution_count": null,
   "outputs": [],
   "source": [],
   "metadata": {
    "collapsed": false
   }
  },
  {
   "cell_type": "code",
   "execution_count": null,
   "outputs": [],
   "source": [],
   "metadata": {
    "collapsed": false
   }
  },
  {
   "cell_type": "code",
   "execution_count": null,
   "outputs": [],
   "source": [],
   "metadata": {
    "collapsed": false
   }
  },
  {
   "cell_type": "code",
   "execution_count": null,
   "outputs": [],
   "source": [],
   "metadata": {
    "collapsed": false
   }
  }
 ],
 "metadata": {
  "accelerator": "GPU",
  "colab": {
   "provenance": []
  },
  "kernelspec": {
   "display_name": "Python 3 (ipykernel)",
   "language": "python",
   "name": "python3"
  },
  "language_info": {
   "codemirror_mode": {
    "name": "ipython",
    "version": 3
   },
   "file_extension": ".py",
   "mimetype": "text/x-python",
   "name": "python",
   "nbconvert_exporter": "python",
   "pygments_lexer": "ipython3",
   "version": "3.10.0"
  }
 },
 "nbformat": 4,
 "nbformat_minor": 1
}
